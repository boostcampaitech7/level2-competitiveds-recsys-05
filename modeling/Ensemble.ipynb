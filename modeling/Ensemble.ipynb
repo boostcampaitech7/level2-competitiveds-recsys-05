{
 "cells": [
  {
   "cell_type": "markdown",
   "metadata": {},
   "source": [
    "# 데이터 불러오기"
   ]
  },
  {
   "cell_type": "code",
   "execution_count": 1,
   "metadata": {},
   "outputs": [],
   "source": [
    "import pandas as pd\n",
    "import numpy as np\n",
    "from sklearn.metrics import root_mean_squared_error, mean_absolute_error\n",
    "from sklearn.model_selection import train_test_split\n",
    "import optuna\n",
    "\n",
    "RANDOM_SEED = 42\n",
    "np.random.seed(RANDOM_SEED)\n",
    "\n",
    "# 파일 경로 설정\n",
    "file_path = '../data/'\n",
    "\n",
    "# 파일 불러오기\n",
    "df = pd.read_csv(file_path + 'final.csv') # 깃헙용 명칭\n",
    "sample_submission = pd.read_csv(file_path + 'sample_submission.csv')"
   ]
  },
  {
   "cell_type": "markdown",
   "metadata": {},
   "source": [
    "# 짧은 FE"
   ]
  },
  {
   "cell_type": "code",
   "execution_count": 7,
   "metadata": {},
   "outputs": [
    {
     "data": {
      "text/plain": [
       "array([3.56])"
      ]
     },
     "execution_count": 7,
     "metadata": {},
     "output_type": "execute_result"
    }
   ],
   "source": [
    "# 202406 interest_rate 202405로 채우기\n",
    "df[df[\"contract_year_month\"] == 202405][\"interest_rate\"].unique()\n",
    "df[\"interest_rate\"].fillna(3.56, inplace=True)"
   ]
  },
  {
   "cell_type": "code",
   "execution_count": 18,
   "metadata": {},
   "outputs": [],
   "source": [
    "# 파일 불러오기\n",
    "interest_rate_df = pd.read_csv(file_path + 'interestRate.csv')\n",
    "\n",
    "interest_rate_df[\"contract_year_month\"] = interest_rate_df[\"year_month\"]\n",
    "interest_rate_df.drop(\"year_month\", axis=1, inplace=True)\n",
    "\n",
    "interest_rate_df.loc[len(interest_rate_df)] = [3.56, 202406]"
   ]
  },
  {
   "cell_type": "code",
   "execution_count": null,
   "metadata": {},
   "outputs": [],
   "source": [
    "# FE : interest_rate 기울기\n",
    "\n",
    "# index 기준으로 역순 정렬\n",
    "interest_rate_df = interest_rate_df.sort_index(ascending=False).reset_index(drop=True)\n",
    "\n",
    "# 기울기를 계산할 함수 정의\n",
    "def calculate_slope(series):\n",
    "    if len(series) < 3:\n",
    "        return np.nan  # 데이터가 3개월 미만일 때는 NaN 처리\n",
    "    x = np.array(range(len(series)))\n",
    "    y = np.array(series)\n",
    "    slope = np.polyfit(x, y, 1)[0]  # 기울기 계산\n",
    "    return slope\n",
    "\n",
    "# 3개월치의 기울기를 계산해서 새로운 열로 추가\n",
    "interest_rate_df['3_month_slope'] = interest_rate_df['interest_rate'].rolling(window=3).apply(calculate_slope, raw=True)\n",
    "\n",
    "# 첫 번째 NaN 값 대체\n",
    "first_valid_slope = interest_rate_df['3_month_slope'].dropna().iloc[0]\n",
    "interest_rate_df['3_month_slope'].fillna(first_valid_slope, inplace=True)\n",
    "\n",
    "# index 0은 0으로 대체\n",
    "interest_rate_df.loc[0, '3_month_slope'] = 0\n",
    "\n",
    "# index 1은 2개월치의 기울기로 계산\n",
    "if len(interest_rate_df) > 1:\n",
    "    x = np.array([0, 1])\n",
    "    y = interest_rate_df.loc[0:1, 'interest_rate']\n",
    "    two_month_slope = np.polyfit(x, y, 1)[0]\n",
    "    interest_rate_df.loc[1, '3_month_slope'] = two_month_slope\n",
    "\n",
    "# df와 interest_rate_df를 'contract_year_month'를 기준으로 병합\n",
    "df = pd.merge(df, interest_rate_df[['contract_year_month', '3_month_slope']], \n",
    "              on='contract_year_month', \n",
    "              how='left')\n",
    "df.head()"
   ]
  },
  {
   "cell_type": "markdown",
   "metadata": {},
   "source": [
    "# 데이터 분할"
   ]
  },
  {
   "cell_type": "code",
   "execution_count": 29,
   "metadata": {},
   "outputs": [],
   "source": [
    "columns = ['area_m2', 'floor',\n",
    "       'built_year', 'latitude', 'longitude',\n",
    "      #  'interest_rate',\n",
    "       'previous_month_interest_rate', 'monthly_new_supply',\n",
    "       'complex_id', 'max_deposit', 'cluster_labels',\n",
    "      #  'deposit_per_area',\n",
    "       'contract_year', 'contract_month',\n",
    "       'mean_deposit_per_area_year',\n",
    "       'max_deposit_per_area',\n",
    "      #  'previous_deposit',\n",
    "       'previous_deposit2',\n",
    "    #    'half_year',\n",
    "       'half_max_deposit',\n",
    "       'deposit_std_id',\n",
    "    #    'area_m2_category',\n",
    "       'nearest_subway_distance_km', 'nearest_elementary_distance_km',\n",
    "       'nearest_middle_distance_km', 'nearest_high_distance_km',\n",
    "       'nearest_park_distance_km', 'nearest_park_area',\n",
    "       'num_subway_within_0_5', 'num_subway_within_1', 'num_subway_within_2',\n",
    "       'num_elementary_within_0_5', 'num_elementary_within_1',\n",
    "       'num_elementary_within_2', 'num_middle_within_0_5',\n",
    "       'num_middle_within_1', 'num_middle_within_2', 'num_high_within_0_5',\n",
    "       'num_high_within_1', 'num_high_within_2', 'num_park_within_0_8',\n",
    "       'num_park_within_1_5', 'num_park_within_2',\n",
    "       'area_floor_interaction',\n",
    "       'nearest_transportation_hub',\n",
    "      #  'floor_area',\n",
    "        'contract_type', \n",
    "       '3_month_slope']"
   ]
  },
  {
   "cell_type": "code",
   "execution_count": 33,
   "metadata": {},
   "outputs": [],
   "source": [
    "# train, test split\n",
    "train = df[df[\"_type\"] == \"train\"].sort_values(by='index')\n",
    "test = df[df[\"_type\"] == \"test\"].sort_values(by='index')\n",
    "\n",
    "holdout_start = 202307\n",
    "holdout_end = 202312\n",
    "holdout_data = train[(train['contract_year_month'] >= holdout_start) & (train['contract_year_month'] <= holdout_end)]\n",
    "train_data = train[~(train['contract_year_month'] >= holdout_start) & (train['contract_year_month'] <= holdout_end)]\n",
    "\n",
    "X_train_full = train_data[columns]\n",
    "y_train_full = train_data['deposit']\n",
    "X_holdout = holdout_data[columns]\n",
    "y_holdout = holdout_data['deposit']\n",
    "X_test = test[columns]\n",
    "\n",
    "# 학습 데이터와 검증 데이터 분리\n",
    "X_train, X_val, y_train, y_val = train_test_split(\n",
    "    X_train_full,\n",
    "    y_train_full,\n",
    "    test_size=0.2,\n",
    "    random_state=RANDOM_SEED\n",
    ")"
   ]
  },
  {
   "cell_type": "markdown",
   "metadata": {},
   "source": [
    "# 모델링"
   ]
  },
  {
   "cell_type": "code",
   "execution_count": null,
   "metadata": {},
   "outputs": [],
   "source": [
    "import lightgbm as lgb\n",
    "def objective(trial):\n",
    "    params = {\n",
    "    'boosting_type': trial.suggest_categorical('boosting_type', ['gbdt']),\n",
    "    # 'learning_rate': trial.suggest_categorical('learning_rate', [0.01, 0.05, 0.1, 0.2]),\n",
    "    'learning_rate': trial.suggest_float('learning_rate', 0.01, 0.2),\n",
    "    'n_estimators': trial.suggest_int('n_estimators', 50, 500),\n",
    "    'max_depth': trial.suggest_int('max_depth', 2, 16),\n",
    "    'num_leaves': trial.suggest_int('num_leaves', 20, 100),\n",
    "    'subsample': trial.suggest_float('subsample', 0.5, 1.0),\n",
    "    'colsample_bytree': trial.suggest_float('colsample_bytree', 0.5, 1.0),\n",
    "    'objective': 'regression_l1',\n",
    "    'random_state': RANDOM_SEED,\n",
    "    'verbose': -1\n",
    "    }\n",
    "    model = lgb.LGBMRegressor(**params)\n",
    "    \n",
    "    model.fit(\n",
    "        X_train, y_train,\n",
    "        eval_set=[(X_val, y_val)],\n",
    "        eval_metric='mae',\n",
    "        callbacks=[optuna.integration.LightGBMPruningCallback(trial, 'l1'), lgb.early_stopping(50, verbose=False)]\n",
    "    )\n",
    "    \n",
    "    holdout_pred = model.predict(X_holdout)\n",
    "    \n",
    "    holdout_mae = mean_absolute_error(y_holdout, holdout_pred)\n",
    "    holdout_rmse = root_mean_squared_error(y_holdout, holdout_pred)\n",
    "\n",
    "    trial.set_user_attr(\"rmse\", holdout_rmse)\n",
    "    \n",
    "    return holdout_mae\n",
    "  \n",
    "\n",
    "study = optuna.create_study(direction='minimize')\n",
    "study.optimize(objective, n_trials=30)"
   ]
  },
  {
   "cell_type": "code",
   "execution_count": 48,
   "metadata": {},
   "outputs": [
    {
     "name": "stdout",
     "output_type": "stream",
     "text": [
      "Best trial:\n",
      "MAE: 3442.0747401749013\n",
      "RMSE: 5611.620429419843\n",
      "Best hyperparameters:  {'loss_function': 'RMSE', 'iterations': 901, 'learning_rate': 0.05928029272464036, 'depth': 12, 'l2_leaf_reg': 3, 'eval_metric': 'MAE', 'random_seed': 42, 'logging_level': 'Silent', 'task_type': 'GPU'}\n"
     ]
    }
   ],
   "source": [
    "trial_lgb = study.best_trial\n",
    "best_params_lgb = trial_lgb.params\n",
    "best_mae_lgb = trial_lgb.value\n",
    "\n",
    "print(\"Best trial:\")\n",
    "print(f\"MAE: {trial_lgb.value}\")\n",
    "print(f\"RMSE: {trial_lgb.user_attrs['rmse']}\")\n",
    "print(\"Best hyperparameters: \", trial_lgb.params)"
   ]
  },
  {
   "cell_type": "markdown",
   "metadata": {},
   "source": [
    "Best trial:   \n",
    "MAE: 3433.937191036907   \n",
    "RMSE: 5724.117930432466   \n",
    "Best hyperparameters:  {'boosting_type': 'gbdt', 'learning_rate': 0.1686900811502798, 'n_estimators': 233, 'max_depth': 11, 'num_leaves': 84, 'subsample': 0.9116089240887149, 'colsample_bytree': 0.7268457056093285}"
   ]
  },
  {
   "cell_type": "code",
   "execution_count": null,
   "metadata": {},
   "outputs": [],
   "source": [
    "import xgboost as xgb\n",
    "def objective(trial):\n",
    "    params = {\n",
    "        'device': trial.suggest_categorical('device', ['cuda']),\n",
    "        'objective': trial.suggest_categorical('objective', ['reg:absoluteerror']),\n",
    "        'booster': trial.suggest_categorical('booster',['gbtree']),\n",
    "        'tree_method': trial.suggest_categorical('tree_method',['hist']),\n",
    "        'learning_rate': trial.suggest_categorical('learning_rate', [0.05, 0.01, 0.1, 0.2]),\n",
    "        'max_depth': trial.suggest_int('max_depth', 3, 10),\n",
    "        'max_leaves': trial.suggest_int('max_leaves', 0, 255),\n",
    "        'subsample': trial.suggest_float('subsample', 0.5, 1.0),\n",
    "        'colsample_bytree': trial.suggest_float('colsample_bytree', 0.5, 1.0),\n",
    "        'eval_metric': trial.suggest_categorical('eval_metric',['mae']),\n",
    "        'random_state': trial.suggest_categorical('random_state', [RANDOM_SEED])\n",
    "    }\n",
    "    \n",
    "    # DMatrix 객체로 변환\n",
    "    dtrain = xgb.DMatrix(X_train, label=y_train)\n",
    "    dval = xgb.DMatrix(X_val, label=y_val)\n",
    "    dholdout = xgb.DMatrix(X_holdout, label=y_holdout)\n",
    "\n",
    "    model = xgb.train(\n",
    "        params,\n",
    "        dtrain,\n",
    "        num_boost_round=trial.suggest_int('num_boost_round', 50, 500),\n",
    "        evals=[(dtrain, 'train'), (dval, 'val')],\n",
    "        early_stopping_rounds=50,\n",
    "        verbose_eval=False,\n",
    "        callbacks=[optuna.integration.XGBoostPruningCallback(trial, 'val-mae')],\n",
    "    )\n",
    "    \n",
    "    holdout_pred = model.predict(dholdout)\n",
    "    \n",
    "    holdout_mae = mean_absolute_error(y_holdout, holdout_pred)\n",
    "    holdout_rmse = root_mean_squared_error(y_holdout, holdout_pred)\n",
    "\n",
    "    trial.set_user_attr(\"rmse\", holdout_rmse)\n",
    "    \n",
    "    return holdout_mae\n",
    "\n",
    "\n",
    "study = optuna.create_study(direction='minimize')\n",
    "study.optimize(objective, n_trials=30)"
   ]
  },
  {
   "cell_type": "code",
   "execution_count": 47,
   "metadata": {},
   "outputs": [
    {
     "name": "stdout",
     "output_type": "stream",
     "text": [
      "Best trial:\n",
      "MAE: 3442.0747401749013\n",
      "RMSE: 5611.620429419843\n",
      "Best hyperparameters:  {'loss_function': 'RMSE', 'iterations': 901, 'learning_rate': 0.05928029272464036, 'depth': 12, 'l2_leaf_reg': 3, 'eval_metric': 'MAE', 'random_seed': 42, 'logging_level': 'Silent', 'task_type': 'GPU'}\n"
     ]
    }
   ],
   "source": [
    "trial_xgb = study.best_trial\n",
    "best_params_xgb = trial_xgb.params\n",
    "best_mae_xgb = trial_xgb.value\n",
    "\n",
    "print(\"Best trial:\")\n",
    "print(f\"MAE: {trial_xgb.value}\")\n",
    "print(f\"RMSE: {trial_xgb.user_attrs['rmse']}\")\n",
    "print(\"Best hyperparameters: \", trial_xgb.params)"
   ]
  },
  {
   "cell_type": "markdown",
   "metadata": {},
   "source": [
    "Best trial:   \n",
    "MAE: 3431.573838729765   \n",
    "RMSE: 5962.07447368747   \n",
    "Best hyperparameters:  {'device': 'cuda', 'objective': 'reg:absoluteerror', 'booster': 'gbtree', 'tree_method': 'hist', 'learning_rate': 0.1, 'max_depth': 9, 'max_leaves': 255, 'subsample': 0.9339458777384791, 'colsample_bytree': 0.789333445231045, 'eval_metric': 'mae', 'random_state': 42, 'num_boost_round': 306}"
   ]
  },
  {
   "cell_type": "code",
   "execution_count": 54,
   "metadata": {},
   "outputs": [],
   "source": [
    "# catboost용 카테고리 변수 생성 (FE)\n",
    "\n",
    "data = df.copy()\n",
    "\n",
    "# 변수 목록\n",
    "variables = ['area_m2', 'floor', 'built_year', \n",
    "             'max_deposit_per_area', 'previous_deposit2', 'nearest_transportation_hub']\n",
    "\n",
    "# 카테고리 수\n",
    "num_categories = 6\n",
    "\n",
    "# 각 변수에 대해 min-max 스케일링과 카테고리화\n",
    "for var in variables:\n",
    "    # Min-max 스케일링\n",
    "    scaled_values = (data[var] - data[var].min()) / (data[var].max() - data[var].min())\n",
    "    \n",
    "    # 카테고리화\n",
    "    data[f'{var}_categorical'] = pd.cut(scaled_values, bins=num_categories, labels=[i+1 for i in range(num_categories)])\n"
   ]
  },
  {
   "cell_type": "code",
   "execution_count": 61,
   "metadata": {},
   "outputs": [],
   "source": [
    "categorical_columns = ['area_m2_categorical',\n",
    "       'floor_categorical', 'built_year_categorical',\n",
    "       'max_deposit_per_area_categorical', 'previous_deposit2_categorical',\n",
    "       'nearest_transportation_hub_categorical']"
   ]
  },
  {
   "cell_type": "code",
   "execution_count": 57,
   "metadata": {},
   "outputs": [],
   "source": [
    "cat_columns = columns + categorical_columns"
   ]
  },
  {
   "cell_type": "code",
   "execution_count": 58,
   "metadata": {},
   "outputs": [],
   "source": [
    "# train, test split\n",
    "train_cat = data[data[\"_type\"] == \"train\"].sort_values(by='index')\n",
    "test_cat = data[data[\"_type\"] == \"test\"].sort_values(by='index')\n",
    "\n",
    "holdout_start = 202307\n",
    "holdout_end = 202312\n",
    "holdout_data_cat = train_cat[(train_cat['contract_year_month'] >= holdout_start) & (train_cat['contract_year_month'] <= holdout_end)]\n",
    "train_data_cat = train_cat[~(train_cat['contract_year_month'] >= holdout_start) & (train_cat['contract_year_month'] <= holdout_end)]\n",
    "\n",
    "# drop 수정 필요\n",
    "X_train_full_cat = train_data_cat[cat_columns]\n",
    "y_train_full_cat = train_data_cat['deposit']\n",
    "X_holdout_cat = holdout_data_cat[cat_columns]\n",
    "y_holdout_cat = holdout_data_cat['deposit']\n",
    "X_test_cat = test_cat[cat_columns]\n",
    "\n",
    "# 학습 데이터와 검증 데이터 분리\n",
    "X_train_cat, X_val_cat, y_train_cat, y_val_cat = train_test_split(\n",
    "    X_train_full_cat,\n",
    "    y_train_full_cat,\n",
    "    test_size=0.2,\n",
    "    random_state=RANDOM_SEED\n",
    ")"
   ]
  },
  {
   "cell_type": "code",
   "execution_count": null,
   "metadata": {},
   "outputs": [],
   "source": [
    "import catboost as cb\n",
    "\n",
    "def objective(trial):\n",
    "    params = {\n",
    "        'loss_function': trial.suggest_categorical('loss_function', ['RMSE']),\n",
    "        'iterations': trial.suggest_int('iterations', 100, 1000),\n",
    "        'learning_rate': trial.suggest_float('learning_rate', 0.01, 0.2),\n",
    "        'depth': trial.suggest_int('depth', 1, 16),\n",
    "        'l2_leaf_reg': trial.suggest_int('l2_leaf_reg', 1, 10),\n",
    "        'eval_metric': trial.suggest_categorical('eval_metric', [\"MAE\"]),\n",
    "        # 'od_type': 'Iter',\n",
    "        # 'od_wait': 50,\n",
    "        'random_seed': trial.suggest_categorical('random_seed', [RANDOM_SEED]),\n",
    "        'logging_level': trial.suggest_categorical('logging_level', ['Silent']),\n",
    "        'task_type': trial.suggest_categorical('task_type',['GPU']),\n",
    "    }\n",
    "    model = cb.CatBoostRegressor(**params)\n",
    "    \n",
    "    model.fit(X_train_cat, y_train_cat, eval_set=[(X_val_cat, y_val_cat)], early_stopping_rounds = 50)\n",
    "    \n",
    "    holdout_pred_cat = model.predict(X_holdout_cat)\n",
    "    \n",
    "    holdout_mae = mean_absolute_error(y_holdout_cat, holdout_pred_cat)\n",
    "    holdout_rmse = root_mean_squared_error(y_holdout_cat, holdout_pred_cat)\n",
    "\n",
    "    trial.set_user_attr(\"rmse\", holdout_rmse)\n",
    "    \n",
    "    return holdout_mae\n",
    "\n",
    "\n",
    "study = optuna.create_study(direction='minimize')\n",
    "study.optimize(objective, n_trials=30)"
   ]
  },
  {
   "cell_type": "code",
   "execution_count": 41,
   "metadata": {},
   "outputs": [
    {
     "name": "stdout",
     "output_type": "stream",
     "text": [
      "Best trial:\n",
      "MAE: 3442.0747401749013\n",
      "RMSE: 5611.620429419843\n",
      "Best hyperparameters:  {'loss_function': 'RMSE', 'iterations': 901, 'learning_rate': 0.05928029272464036, 'depth': 12, 'l2_leaf_reg': 3, 'eval_metric': 'MAE', 'random_seed': 42, 'logging_level': 'Silent', 'task_type': 'GPU'}\n"
     ]
    }
   ],
   "source": [
    "trial_cat = study.best_trial\n",
    "best_params_cat = trial_cat.params\n",
    "best_mae_cat = trial_cat.value\n",
    "\n",
    "print(\"Best trial:\")\n",
    "print(f\"MAE: {trial_cat.value}\")\n",
    "print(f\"RMSE: {trial_cat.user_attrs['rmse']}\")\n",
    "print(\"Best hyperparameters: \", trial_cat.params)"
   ]
  },
  {
   "cell_type": "markdown",
   "metadata": {},
   "source": [
    "Best trial:   \n",
    "MAE: 3442.0747401749013   \n",
    "RMSE: 5611.620429419843   \n",
    "Best hyperparameters:  {'loss_function': 'RMSE', 'iterations': 901, 'learning_rate': 0.05928029272464036, 'depth': 12, 'l2_leaf_reg': 3, 'eval_metric': 'MAE', 'random_seed': 42, 'logging_level': 'Silent', 'task_type': 'GPU'}"
   ]
  },
  {
   "cell_type": "markdown",
   "metadata": {},
   "source": [
    "# Ensemble 후 holdout 검증"
   ]
  },
  {
   "cell_type": "markdown",
   "metadata": {},
   "source": [
    "3개의 모델 각각 3개의 seed 바꿔서 9개 모델 mae 가중 앙상블"
   ]
  },
  {
   "cell_type": "code",
   "execution_count": null,
   "metadata": {},
   "outputs": [],
   "source": [
    "# seed 42\n",
    "best_params_lgb = {'boosting_type': 'gbdt', 'learning_rate': 0.1686900811502798, 'n_estimators': 233, 'max_depth': 11, 'num_leaves': 84, 'subsample': 0.9116089240887149, 'colsample_bytree': 0.7268457056093285, 'random_state': 42, 'objective': 'regression_l1', 'verbose': -1}\n",
    "best_params_xgb = {'device': 'cuda', 'objective': 'reg:absoluteerror', 'booster': 'gbtree', 'tree_method': 'hist', 'learning_rate': 0.1, 'max_depth': 9, 'max_leaves': 255, 'subsample': 0.9339458777384791, 'colsample_bytree': 0.789333445231045, 'eval_metric': 'mae', 'random_state': 42, 'num_boost_round': 306}\n",
    "best_params_xgb['n_estimators'] = best_params_xgb.pop('num_boost_round')\n",
    "best_params_cat =  {'loss_function': 'RMSE', 'iterations': 901, 'learning_rate': 0.05928029272464036, 'depth': 12, 'l2_leaf_reg': 3, 'eval_metric': 'MAE', 'random_seed': 42, 'logging_level': 'Silent', 'task_type': 'GPU'}\n",
    "lgb_model1 = lgb.LGBMRegressor(**best_params_lgb)\n",
    "xgb_model1 = xgb.XGBRegressor(**best_params_xgb)\n",
    "cat_model1 = cb.CatBoostRegressor(**best_params_cat)\n",
    "lgb_model1.fit(X_train_full, y_train_full)\n",
    "xgb_model1.fit(X_train_full, y_train_full)\n",
    "cat_model1.fit(X_train_full_cat, y_train_full_cat, cat_features=categorical_columns)\n",
    "\n",
    "# seed 525\n",
    "best_params_lgb = {'boosting_type': 'gbdt', 'learning_rate': 0.1686900811502798, 'n_estimators': 233, 'max_depth': 11, 'num_leaves': 84, 'subsample': 0.9116089240887149, 'colsample_bytree': 0.7268457056093285, 'random_state': 525, 'objective': 'regression_l1', 'verbose': -1}\n",
    "best_params_xgb = {'device': 'cuda', 'objective': 'reg:absoluteerror', 'booster': 'gbtree', 'tree_method': 'hist', 'learning_rate': 0.1, 'max_depth': 9, 'max_leaves': 255, 'subsample': 0.9339458777384791, 'colsample_bytree': 0.789333445231045, 'eval_metric': 'mae', 'random_state': 525, 'num_boost_round': 306}\n",
    "best_params_xgb['n_estimators'] = best_params_xgb.pop('num_boost_round')\n",
    "best_params_cat =  {'loss_function': 'RMSE', 'iterations': 901, 'learning_rate': 0.05928029272464036, 'depth': 12, 'l2_leaf_reg': 3, 'eval_metric': 'MAE', 'random_seed': 525, 'logging_level': 'Silent', 'task_type': 'GPU'}\n",
    "lgb_model2 = lgb.LGBMRegressor(**best_params_lgb)\n",
    "xgb_model2 = xgb.XGBRegressor(**best_params_xgb)\n",
    "cat_model2 = cb.CatBoostRegressor(**best_params_cat)\n",
    "lgb_model2.fit(X_train_full, y_train_full)\n",
    "xgb_model2.fit(X_train_full, y_train_full)\n",
    "cat_model2.fit(X_train_full_cat, y_train_full_cat, cat_features=categorical_columns)\n",
    "\n",
    "# seed 36\n",
    "best_params_lgb = {'boosting_type': 'gbdt', 'learning_rate': 0.1686900811502798, 'n_estimators': 233, 'max_depth': 11, 'num_leaves': 84, 'subsample': 0.9116089240887149, 'colsample_bytree': 0.7268457056093285, 'random_state': 36, 'objective': 'regression_l1', 'verbose': -1}\n",
    "best_params_xgb = {'device': 'cuda', 'objective': 'reg:absoluteerror', 'booster': 'gbtree', 'tree_method': 'hist', 'learning_rate': 0.1, 'max_depth': 9, 'max_leaves': 255, 'subsample': 0.9339458777384791, 'colsample_bytree': 0.789333445231045, 'eval_metric': 'mae', 'random_state': 36, 'num_boost_round': 306}\n",
    "best_params_xgb['n_estimators'] = best_params_xgb.pop('num_boost_round')\n",
    "best_params_cat =  {'loss_function': 'RMSE', 'iterations': 901, 'learning_rate': 0.05928029272464036, 'depth': 12, 'l2_leaf_reg': 3, 'eval_metric': 'MAE', 'random_seed': 36, 'logging_level': 'Silent', 'task_type': 'GPU'}\n",
    "lgb_model3 = lgb.LGBMRegressor(**best_params_lgb)\n",
    "xgb_model3 = xgb.XGBRegressor(**best_params_xgb)\n",
    "cat_model3 = cb.CatBoostRegressor(**best_params_cat)\n",
    "lgb_model3.fit(X_train_full, y_train_full)\n",
    "xgb_model3.fit(X_train_full, y_train_full)\n",
    "cat_model3.fit(X_train_full_cat, y_train_full_cat, cat_features=categorical_columns)\n",
    "\n",
    "print(\"fit complete\")\n",
    "\n",
    "# 세 모델의 예측값을 가져옵니다.\n",
    "lgb_holdout_pred1 = lgb_model1.predict(X_holdout)\n",
    "xgb_holdout_pred1 = xgb_model1.predict(X_holdout)\n",
    "cat_holdout_pred1 = cat_model1.predict(X_holdout_cat)\n",
    "\n",
    "lgb_holdout_pred2 = lgb_model2.predict(X_holdout)\n",
    "xgb_holdout_pred2 = xgb_model2.predict(X_holdout)\n",
    "cat_holdout_pred2 = cat_model2.predict(X_holdout_cat)\n",
    "\n",
    "lgb_holdout_pred3 = lgb_model3.predict(X_holdout)\n",
    "xgb_holdout_pred3 = xgb_model3.predict(X_holdout)\n",
    "cat_holdout_pred3 = cat_model3.predict(X_holdout_cat)\n",
    "\n",
    "# MAE 계산\n",
    "lgb_mae1 = mean_absolute_error(y_holdout, lgb_holdout_pred1)\n",
    "xgb_mae1 = mean_absolute_error(y_holdout, xgb_holdout_pred1)\n",
    "cat_mae1 = mean_absolute_error(y_holdout_cat, cat_holdout_pred1)\n",
    "\n",
    "lgb_mae2 = mean_absolute_error(y_holdout, lgb_holdout_pred2)\n",
    "xgb_mae2 = mean_absolute_error(y_holdout, xgb_holdout_pred2)\n",
    "cat_mae2 = mean_absolute_error(y_holdout_cat, cat_holdout_pred2)\n",
    "\n",
    "lgb_mae3 = mean_absolute_error(y_holdout, lgb_holdout_pred3)\n",
    "xgb_mae3 = mean_absolute_error(y_holdout, xgb_holdout_pred3)\n",
    "cat_mae3 = mean_absolute_error(y_holdout_cat, cat_holdout_pred3)\n",
    "\n",
    "# MAE의 역수로 가중치 계산 (MAE가 낮을수록 가중치 높음)\n",
    "total = (1/lgb_mae1) + (1/xgb_mae1) + (1/cat_mae1) + (1/lgb_mae2) + (1/xgb_mae2) + (1/cat_mae2) + (1/lgb_mae3) + (1/xgb_mae3) + (1/cat_mae3)\n",
    "lgb_weight1 = (1/lgb_mae1) / total\n",
    "xgb_weight1 = (1/xgb_mae1) / total\n",
    "cat_weight1 = (1/cat_mae1) / total\n",
    "\n",
    "lgb_weight2 = (1/lgb_mae2) / total\n",
    "xgb_weight2 = (1/xgb_mae2) / total\n",
    "cat_weight2 = (1/cat_mae2) / total\n",
    "\n",
    "lgb_weight3 = (1/lgb_mae3) / total\n",
    "xgb_weight3 = (1/xgb_mae3) / total\n",
    "cat_weight3 = (1/cat_mae3) / total\n",
    "\n",
    "print(f\"LGB Weight1: {lgb_weight1:.4f}\")\n",
    "print(f\"XGB Weight1: {xgb_weight1:.4f}\")\n",
    "print(f\"CatBoost Weight1: {cat_weight1:.4f}\")\n",
    "\n",
    "print(f\"LGB Weight2: {lgb_weight2:.4f}\")\n",
    "print(f\"XGB Weight2: {xgb_weight2:.4f}\")\n",
    "print(f\"CatBoost Weight2: {cat_weight2:.4f}\")\n",
    "\n",
    "print(f\"LGB Weight3: {lgb_weight3:.4f}\")\n",
    "print(f\"XGB Weight3: {xgb_weight3:.4f}\")\n",
    "print(f\"CatBoost Weight3: {cat_weight3:3.4f}\")\n",
    "\n",
    "# 가중치 평균 앙상블\n",
    "ensemble_pred_weighted = (\n",
    "    lgb_holdout_pred1 * lgb_weight1 +\n",
    "    xgb_holdout_pred1 * xgb_weight1 +\n",
    "    cat_holdout_pred1 * cat_weight1 +\n",
    "\n",
    "    lgb_holdout_pred2 * lgb_weight2 +\n",
    "    xgb_holdout_pred2 * xgb_weight2 +\n",
    "    cat_holdout_pred2 * cat_weight2 +\n",
    "\n",
    "    lgb_holdout_pred3 * lgb_weight3 +\n",
    "    xgb_holdout_pred3 * xgb_weight3 +\n",
    "    cat_holdout_pred3 * cat_weight3\n",
    ")\n",
    "\n",
    "mae = mean_absolute_error(y_holdout, ensemble_pred_weighted)\n",
    "rmse = root_mean_squared_error(y_holdout, ensemble_pred_weighted)\n",
    "\n",
    "print(f\" weighted_holdout_MAE: {mae:.2f}\")\n",
    "print(f\" weighted_holdout_RMSE: {rmse:.2f}\")"
   ]
  },
  {
   "cell_type": "markdown",
   "metadata": {},
   "source": [
    "LGB Weight1: 0.1128    \n",
    "XGB Weight1: 0.1117   \n",
    "CatBoost Weight1: 0.1094   \n",
    "LGB Weight2: 0.1123   \n",
    "XGB Weight2: 0.1119   \n",
    "CatBoost Weight2: 0.1093   \n",
    "LGB Weight3: 0.1113   \n",
    "XGB Weight3: 0.1117   \n",
    "CatBoost Weight3: 0.1097   \n",
    " weighted_holdout_MAE: 3409.28   \n",
    " weighted_holdout_RMSE: 5585.89   "
   ]
  },
  {
   "cell_type": "markdown",
   "metadata": {},
   "source": [
    "# 재학습 후 output 생성 (제출용)"
   ]
  },
  {
   "cell_type": "code",
   "execution_count": null,
   "metadata": {},
   "outputs": [],
   "source": [
    "# 재학습\n",
    "lgb_model1.fit(train[columns], train[\"deposit\"])\n",
    "xgb_model1.fit(train[columns], train[\"deposit\"])\n",
    "cat_model1.fit(train_cat[cat_columns], train_cat[\"deposit\"], cat_features=categorical_columns)\n",
    "\n",
    "lgb_model2.fit(train[columns], train[\"deposit\"])\n",
    "xgb_model2.fit(train[columns], train[\"deposit\"])\n",
    "cat_model2.fit(train_cat[cat_columns], train_cat[\"deposit\"], cat_features=categorical_columns)\n",
    "\n",
    "lgb_model3.fit(train[columns], train[\"deposit\"])\n",
    "xgb_model3.fit(train[columns], train[\"deposit\"])\n",
    "cat_model3.fit(train_cat[cat_columns], train_cat[\"deposit\"], cat_features=categorical_columns)\n",
    "\n",
    "# 세 모델의 예측값을 가져옵니다.\n",
    "lgb_test_pred1 = lgb_model1.predict(X_test)\n",
    "xgb_test_pred1 = xgb_model1.predict(X_test)\n",
    "cat_test_pred1 = cat_model1.predict(X_test_cat)\n",
    "\n",
    "lgb_test_pred2 = lgb_model2.predict(X_test)\n",
    "xgb_test_pred2 = xgb_model2.predict(X_test)\n",
    "cat_test_pred2 = cat_model2.predict(X_test_cat)\n",
    "\n",
    "lgb_test_pred3 = lgb_model3.predict(X_test)\n",
    "xgb_test_pred3 = xgb_model3.predict(X_test)\n",
    "cat_test_pred3 = cat_model3.predict(X_test_cat)\n",
    "\n",
    "# 가중치 평균 앙상블\n",
    "ensemble_pred_weighted = (\n",
    "    lgb_test_pred1 * lgb_weight1 +\n",
    "    xgb_test_pred1 * xgb_weight1 +\n",
    "    cat_test_pred1 * cat_weight1 +\n",
    "\n",
    "    lgb_test_pred2 * lgb_weight2 +\n",
    "    xgb_test_pred2 * xgb_weight2 +\n",
    "    cat_test_pred2 * cat_weight2 +\n",
    "\n",
    "    lgb_test_pred3 * lgb_weight3 +\n",
    "    xgb_test_pred3 * xgb_weight3 +\n",
    "    cat_test_pred3 * cat_weight3\n",
    ")\n",
    "\n",
    "y_test_pred = ensemble_pred_weighted\n",
    "\n",
    "y_test_pred.mean()"
   ]
  },
  {
   "cell_type": "markdown",
   "metadata": {},
   "source": [
    "39480.61754161328"
   ]
  },
  {
   "cell_type": "code",
   "execution_count": 66,
   "metadata": {},
   "outputs": [
    {
     "data": {
      "text/plain": [
       "contract_year_month\n",
       "202401    40578.869981\n",
       "202402    39478.309219\n",
       "202403    38121.250513\n",
       "202404    38996.788791\n",
       "202405    39725.983346\n",
       "202406    39224.621490\n",
       "Name: pred_deposit, dtype: float64"
      ]
     },
     "execution_count": 66,
     "metadata": {},
     "output_type": "execute_result"
    }
   ],
   "source": [
    "test_pred = test.copy()\n",
    "test_pred[\"pred_deposit\"] = y_test_pred\n",
    "test_pred.groupby('contract_year_month')[\"pred_deposit\"].mean()"
   ]
  },
  {
   "cell_type": "markdown",
   "metadata": {},
   "source": [
    "contract_year_month   \n",
    "202401    40578.869981   \n",
    "202402    39478.309219   \n",
    "202403    38121.250513   \n",
    "202404    38996.788791   \n",
    "202405    39725.983346   \n",
    "202406    39224.621490   \n",
    "Name: pred_deposit, dtype: float64   "
   ]
  },
  {
   "cell_type": "code",
   "execution_count": 68,
   "metadata": {},
   "outputs": [],
   "source": [
    "# 제출용 sample_submission 생성\n",
    "sample_submission[\"deposit\"] = y_test_pred\n",
    "sample_submission.to_csv(\"output_ensemble2_6.csv\", index= False)"
   ]
  },
  {
   "cell_type": "code",
   "execution_count": 67,
   "metadata": {},
   "outputs": [
    {
     "data": {
      "image/png": "[encoded data removed]",
      "text/plain": [
       "<Figure size 1000x600 with 1 Axes>"
      ]
     },
     "metadata": {},
     "output_type": "display_data"
    }
   ],
   "source": [
    "import matplotlib.pyplot as plt\n",
    "\n",
    "importance = lgb_model1.feature_importances_\n",
    "feature_names = X_train.columns  # 변수 이름\n",
    "\n",
    "# 중요도를 DataFrame으로 변환\n",
    "importance_df = pd.DataFrame({'Feature': feature_names, 'Importance': importance})\n",
    "\n",
    "# 중요도 순으로 정렬\n",
    "importance_df = importance_df.sort_values(by='Importance', ascending=False)\n",
    "\n",
    "# 중요도 시각화\n",
    "plt.figure(figsize=(10, 6))\n",
    "plt.barh(importance_df['Feature'], importance_df['Importance'], color='skyblue')\n",
    "plt.xlabel('Importance')\n",
    "plt.title('Feature Importance')\n",
    "plt.gca().invert_yaxis()  # 중요도가 높은 순서로 표시\n",
    "plt.show()"
   ]
  }
 ],
 "metadata": {
  "kernelspec": {
   "display_name": "project2",
   "language": "python",
   "name": "python3"
  },
  "language_info": {
   "codemirror_mode": {
    "name": "ipython",
    "version": 3
   },
   "file_extension": ".py",
   "mimetype": "text/x-python",
   "name": "python",
   "nbconvert_exporter": "python",
   "pygments_lexer": "ipython3",
   "version": "3.11.9"
  }
 },
 "nbformat": 4,
 "nbformat_minor": 2
}
