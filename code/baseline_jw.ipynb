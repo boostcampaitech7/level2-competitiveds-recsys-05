{
 "cells": [
  {
   "cell_type": "markdown",
   "metadata": {},
   "source": [
    "## 필요한 패키지 불러오기"
   ]
  },
  {
   "cell_type": "code",
   "execution_count": 1,
   "metadata": {},
   "outputs": [],
   "source": [
    "import os\n",
    "import pandas as pd\n",
    "import numpy as np\n",
    "from sklearn.model_selection import StratifiedKFold\n",
    "import wandb"
   ]
  },
  {
   "cell_type": "markdown",
   "metadata": {},
   "source": [
    "## 데이터셋 준비 및 분할"
   ]
  },
  {
   "cell_type": "code",
   "execution_count": 2,
   "metadata": {},
   "outputs": [
    {
     "name": "stderr",
     "output_type": "stream",
     "text": [
      "\u001b[34m\u001b[1mwandb\u001b[0m: Using wandb-core as the SDK backend. Please refer to https://wandb.me/wandb-core for more information.\n",
      "\u001b[34m\u001b[1mwandb\u001b[0m: Currently logged in as: \u001b[33mqkfdksdldy\u001b[0m. Use \u001b[1m`wandb login --relogin`\u001b[0m to force relogin\n"
     ]
    },
    {
     "ename": "CommError",
     "evalue": "failed to upsert bucket: returned error 403 Forbidden: {\"errors\":[{\"message\":\"permission denied\",\"path\":[\"upsertBucket\"],\"extensions\":{\"code\":\"PERMISSION_ERROR\"}}],\"data\":{\"upsertBucket\":null}}",
     "output_type": "error",
     "traceback": [
      "\u001b[0;31m---------------------------------------------------------------------------\u001b[0m",
      "\u001b[0;31mCommError\u001b[0m                                 Traceback (most recent call last)",
      "Cell \u001b[0;32mIn[2], line 6\u001b[0m\n\u001b[1;32m      3\u001b[0m np\u001b[38;5;241m.\u001b[39mrandom\u001b[38;5;241m.\u001b[39mseed(RANDOM_SEED)\n\u001b[1;32m      5\u001b[0m \u001b[38;5;66;03m# Initialize Weights & Biases\u001b[39;00m\n\u001b[0;32m----> 6\u001b[0m \u001b[43mwandb\u001b[49m\u001b[38;5;241;43m.\u001b[39;49m\u001b[43minit\u001b[49m\u001b[43m(\u001b[49m\u001b[43mproject\u001b[49m\u001b[38;5;241;43m=\u001b[39;49m\u001b[38;5;124;43m'\u001b[39;49m\u001b[38;5;124;43mreal-estate-price-prediction\u001b[39;49m\u001b[38;5;124;43m'\u001b[39;49m\u001b[43m,\u001b[49m\u001b[43m \u001b[49m\u001b[43mentity\u001b[49m\u001b[43m \u001b[49m\u001b[38;5;241;43m=\u001b[39;49m\u001b[43m \u001b[49m\u001b[38;5;124;43m'\u001b[39;49m\u001b[38;5;124;43mqkfdksdldy\u001b[39;49m\u001b[38;5;124;43m'\u001b[39;49m\u001b[43m)\u001b[49m  \u001b[38;5;66;03m# 수정 필요\u001b[39;00m\n",
      "File \u001b[0;32m~/level2-competitiveds-recsys-05/.venv/lib/python3.11/site-packages/wandb/sdk/wandb_init.py:1266\u001b[0m, in \u001b[0;36minit\u001b[0;34m(job_type, dir, config, project, entity, reinit, tags, group, name, notes, magic, config_exclude_keys, config_include_keys, anonymous, mode, allow_val_change, resume, force, tensorboard, sync_tensorboard, monitor_gym, save_code, id, fork_from, resume_from, settings)\u001b[0m\n\u001b[1;32m   1262\u001b[0m     logger\u001b[38;5;241m.\u001b[39mexception(\u001b[38;5;124m\"\u001b[39m\u001b[38;5;124merror in wandb.init()\u001b[39m\u001b[38;5;124m\"\u001b[39m, exc_info\u001b[38;5;241m=\u001b[39me)\n\u001b[1;32m   1264\u001b[0m \u001b[38;5;66;03m# Need to build delay into this sentry capture because our exit hooks\u001b[39;00m\n\u001b[1;32m   1265\u001b[0m \u001b[38;5;66;03m# mess with sentry's ability to send out errors before the program ends.\u001b[39;00m\n\u001b[0;32m-> 1266\u001b[0m \u001b[43mwandb\u001b[49m\u001b[38;5;241;43m.\u001b[39;49m\u001b[43m_sentry\u001b[49m\u001b[38;5;241;43m.\u001b[39;49m\u001b[43mreraise\u001b[49m\u001b[43m(\u001b[49m\u001b[43me\u001b[49m\u001b[43m)\u001b[49m\n\u001b[1;32m   1267\u001b[0m \u001b[38;5;28;01mraise\u001b[39;00m \u001b[38;5;167;01mAssertionError\u001b[39;00m()\n",
      "File \u001b[0;32m~/level2-competitiveds-recsys-05/.venv/lib/python3.11/site-packages/wandb/analytics/sentry.py:155\u001b[0m, in \u001b[0;36mSentry.reraise\u001b[0;34m(self, exc)\u001b[0m\n\u001b[1;32m    152\u001b[0m \u001b[38;5;28mself\u001b[39m\u001b[38;5;241m.\u001b[39mexception(exc)\n\u001b[1;32m    153\u001b[0m \u001b[38;5;66;03m# this will messily add this \"reraise\" function to the stack trace,\u001b[39;00m\n\u001b[1;32m    154\u001b[0m \u001b[38;5;66;03m# but hopefully it's not too bad\u001b[39;00m\n\u001b[0;32m--> 155\u001b[0m \u001b[38;5;28;01mraise\u001b[39;00m exc\u001b[38;5;241m.\u001b[39mwith_traceback(sys\u001b[38;5;241m.\u001b[39mexc_info()[\u001b[38;5;241m2\u001b[39m])\n",
      "File \u001b[0;32m~/level2-competitiveds-recsys-05/.venv/lib/python3.11/site-packages/wandb/sdk/wandb_init.py:1252\u001b[0m, in \u001b[0;36minit\u001b[0;34m(job_type, dir, config, project, entity, reinit, tags, group, name, notes, magic, config_exclude_keys, config_include_keys, anonymous, mode, allow_val_change, resume, force, tensorboard, sync_tensorboard, monitor_gym, save_code, id, fork_from, resume_from, settings)\u001b[0m\n\u001b[1;32m   1250\u001b[0m     wi \u001b[38;5;241m=\u001b[39m _WandbInit()\n\u001b[1;32m   1251\u001b[0m     wi\u001b[38;5;241m.\u001b[39msetup(kwargs)\n\u001b[0;32m-> 1252\u001b[0m     \u001b[38;5;28;01mreturn\u001b[39;00m \u001b[43mwi\u001b[49m\u001b[38;5;241;43m.\u001b[39;49m\u001b[43minit\u001b[49m\u001b[43m(\u001b[49m\u001b[43m)\u001b[49m\n\u001b[1;32m   1254\u001b[0m \u001b[38;5;28;01mexcept\u001b[39;00m \u001b[38;5;167;01mKeyboardInterrupt\u001b[39;00m \u001b[38;5;28;01mas\u001b[39;00m e:\n\u001b[1;32m   1255\u001b[0m     \u001b[38;5;28;01mif\u001b[39;00m logger \u001b[38;5;129;01mis\u001b[39;00m \u001b[38;5;129;01mnot\u001b[39;00m \u001b[38;5;28;01mNone\u001b[39;00m:\n",
      "File \u001b[0;32m~/level2-competitiveds-recsys-05/.venv/lib/python3.11/site-packages/wandb/sdk/wandb_init.py:844\u001b[0m, in \u001b[0;36m_WandbInit.init\u001b[0;34m(self)\u001b[0m\n\u001b[1;32m    842\u001b[0m         backend\u001b[38;5;241m.\u001b[39mcleanup()\n\u001b[1;32m    843\u001b[0m         \u001b[38;5;28mself\u001b[39m\u001b[38;5;241m.\u001b[39mteardown()\n\u001b[0;32m--> 844\u001b[0m     \u001b[38;5;28;01mraise\u001b[39;00m error\n\u001b[1;32m    846\u001b[0m \u001b[38;5;28;01massert\u001b[39;00m run_result \u001b[38;5;129;01mis\u001b[39;00m \u001b[38;5;129;01mnot\u001b[39;00m \u001b[38;5;28;01mNone\u001b[39;00m  \u001b[38;5;66;03m# for mypy\u001b[39;00m\n\u001b[1;32m    848\u001b[0m \u001b[38;5;28;01mif\u001b[39;00m \u001b[38;5;129;01mnot\u001b[39;00m run_result\u001b[38;5;241m.\u001b[39mHasField(\u001b[38;5;124m\"\u001b[39m\u001b[38;5;124mrun\u001b[39m\u001b[38;5;124m\"\u001b[39m):\n",
      "\u001b[0;31mCommError\u001b[0m: failed to upsert bucket: returned error 403 Forbidden: {\"errors\":[{\"message\":\"permission denied\",\"path\":[\"upsertBucket\"],\"extensions\":{\"code\":\"PERMISSION_ERROR\"}}],\"data\":{\"upsertBucket\":null}}"
     ]
    }
   ],
   "source": [
    "# Set the seed for reproducibility\n",
    "RANDOM_SEED = 42\n",
    "np.random.seed(RANDOM_SEED)\n",
    "\n",
    "# Initialize Weights & Biases\n",
    "wandb.init(project='real-estate-price-prediction', entity = 'qkfdksdldy')  # 수정 필요\n"
   ]
  },
  {
   "cell_type": "code",
   "execution_count": 2,
   "metadata": {},
   "outputs": [
    {
     "ename": "NameError",
     "evalue": "name 'RANDOM_SEED' is not defined",
     "output_type": "error",
     "traceback": [
      "\u001b[0;31m---------------------------------------------------------------------------\u001b[0m",
      "\u001b[0;31mNameError\u001b[0m                                 Traceback (most recent call last)",
      "Cell \u001b[0;32mIn[2], line 28\u001b[0m\n\u001b[1;32m     25\u001b[0m X_test \u001b[38;5;241m=\u001b[39m test_data\u001b[38;5;241m.\u001b[39mcopy()\n\u001b[1;32m     27\u001b[0m \u001b[38;5;66;03m# Stratified Group K-Fold setup\u001b[39;00m\n\u001b[0;32m---> 28\u001b[0m skf \u001b[38;5;241m=\u001b[39m StratifiedKFold(n_splits\u001b[38;5;241m=\u001b[39m\u001b[38;5;241m5\u001b[39m, shuffle\u001b[38;5;241m=\u001b[39m\u001b[38;5;28;01mTrue\u001b[39;00m, random_state\u001b[38;5;241m=\u001b[39m\u001b[43mRANDOM_SEED\u001b[49m)\n",
      "\u001b[0;31mNameError\u001b[0m: name 'RANDOM_SEED' is not defined"
     ]
    }
   ],
   "source": [
    "# File paths\n",
    "file_path = '../data/'\n",
    "\n",
    "# Load the dataset\n",
    "train_data = pd.read_csv(file_path + 'train.csv')\n",
    "test_data = pd.read_csv(file_path + 'test.csv')\n",
    "sample_submission = pd.read_csv(file_path + 'sample_submission.csv')\n",
    "\n",
    "columns_needed = ['area_m2', 'contract_year_month', 'contract_day', 'contract_type', 'floor', 'latitude', 'longitude', 'deposit']\n",
    "columns_needed_test = ['area_m2', 'contract_year_month', 'contract_day', 'contract_type', 'floor', 'latitude', 'longitude']\n",
    "train_data = train_data[columns_needed]\n",
    "test_data = test_data[columns_needed_test]\n",
    "\n",
    "# Holdout 데이터 설정\n",
    "holdout_start = 202307\n",
    "holdout_end = 202312\n",
    "holdout_data = train_data[(train_data['contract_year_month'] >= holdout_start) & (train_data['contract_year_month'] <= holdout_end)]\n",
    "train_data = train_data[~((train_data['contract_year_month'] >= holdout_start) & (train_data['contract_year_month'] <= holdout_end))]\n",
    "\n",
    "# Train/Test 데이터 분리\n",
    "X_train = train_data.drop(columns=['deposit'])\n",
    "y_train = train_data['deposit']\n",
    "X_holdout = holdout_data.drop(columns=['deposit'])\n",
    "y_holdout = holdout_data['deposit']\n",
    "X_test = test_data.copy()\n",
    "\n",
    "# Stratified Group K-Fold setup\n",
    "skf = StratifiedKFold(n_splits=5, shuffle=True, random_state=RANDOM_SEED)"
   ]
  },
  {
   "cell_type": "markdown",
   "metadata": {},
   "source": [
    "## 모델 실행"
   ]
  },
  {
   "cell_type": "markdown",
   "metadata": {},
   "source": [
    "### light GBM 모델"
   ]
  },
  {
   "cell_type": "code",
   "execution_count": 4,
   "metadata": {},
   "outputs": [
    {
     "name": "stderr",
     "output_type": "stream",
     "text": [
      "\u001b[34m\u001b[1mwandb\u001b[0m: Currently logged in as: \u001b[33mqkfdksdldy\u001b[0m (\u001b[33mqkfdksdldy-sungkyunkwan-university\u001b[0m). Use \u001b[1m`wandb login --relogin`\u001b[0m to force relogin\n"
     ]
    },
    {
     "data": {
      "text/html": [
       "Tracking run with wandb version 0.18.3"
      ],
      "text/plain": [
       "<IPython.core.display.HTML object>"
      ]
     },
     "metadata": {},
     "output_type": "display_data"
    },
    {
     "data": {
      "text/html": [
       "Run data is saved locally in <code>/data/ephemeral/home/level2-competitiveds-recsys-05/code/wandb/run-20241002_135429-7m4epy52</code>"
      ],
      "text/plain": [
       "<IPython.core.display.HTML object>"
      ]
     },
     "metadata": {},
     "output_type": "display_data"
    },
    {
     "data": {
      "text/html": [
       "Syncing run <strong><a href='https://wandb.ai/qkfdksdldy-sungkyunkwan-university/real-estate-price-prediction/runs/7m4epy52' target=\"_blank\">LightGBM</a></strong> to <a href='https://wandb.ai/qkfdksdldy-sungkyunkwan-university/real-estate-price-prediction' target=\"_blank\">Weights & Biases</a> (<a href='https://wandb.me/run' target=\"_blank\">docs</a>)<br/>"
      ],
      "text/plain": [
       "<IPython.core.display.HTML object>"
      ]
     },
     "metadata": {},
     "output_type": "display_data"
    },
    {
     "data": {
      "text/html": [
       " View project at <a href='https://wandb.ai/qkfdksdldy-sungkyunkwan-university/real-estate-price-prediction' target=\"_blank\">https://wandb.ai/qkfdksdldy-sungkyunkwan-university/real-estate-price-prediction</a>"
      ],
      "text/plain": [
       "<IPython.core.display.HTML object>"
      ]
     },
     "metadata": {},
     "output_type": "display_data"
    },
    {
     "data": {
      "text/html": [
       " View run at <a href='https://wandb.ai/qkfdksdldy-sungkyunkwan-university/real-estate-price-prediction/runs/7m4epy52' target=\"_blank\">https://wandb.ai/qkfdksdldy-sungkyunkwan-university/real-estate-price-prediction/runs/7m4epy52</a>"
      ],
      "text/plain": [
       "<IPython.core.display.HTML object>"
      ]
     },
     "metadata": {},
     "output_type": "display_data"
    },
    {
     "name": "stdout",
     "output_type": "stream",
     "text": [
      "[LightGBM] [Info] Auto-choosing col-wise multi-threading, the overhead of testing was 0.099119 seconds.\n",
      "You can set `force_col_wise=true` to remove the overhead.\n",
      "[LightGBM] [Info] Total Bins 914\n",
      "[LightGBM] [Info] Number of data points in the train set: 1275489, number of used features: 7\n",
      "[LightGBM] [Info] Start training from score 40222.736105\n",
      "[LightGBM] [Warning] No further splits with positive gain, best gain: -inf\n",
      "[LightGBM] [Warning] No further splits with positive gain, best gain: -inf\n",
      "[LightGBM] [Warning] No further splits with positive gain, best gain: -inf\n",
      "[LightGBM] [Warning] No further splits with positive gain, best gain: -inf\n",
      "[LightGBM] [Warning] No further splits with positive gain, best gain: -inf\n",
      "[LightGBM] [Warning] No further splits with positive gain, best gain: -inf\n",
      "[LightGBM] [Warning] No further splits with positive gain, best gain: -inf\n",
      "[LightGBM] [Warning] No further splits with positive gain, best gain: -inf\n",
      "[LightGBM] [Warning] No further splits with positive gain, best gain: -inf\n",
      "[LightGBM] [Warning] No further splits with positive gain, best gain: -inf\n",
      "[LightGBM] [Warning] No further splits with positive gain, best gain: -inf\n",
      "[LightGBM] [Warning] No further splits with positive gain, best gain: -inf\n",
      "[LightGBM] [Warning] No further splits with positive gain, best gain: -inf\n",
      "[LightGBM] [Warning] No further splits with positive gain, best gain: -inf\n",
      "[LightGBM] [Warning] No further splits with positive gain, best gain: -inf\n",
      "[LightGBM] [Warning] No further splits with positive gain, best gain: -inf\n",
      "[LightGBM] [Warning] No further splits with positive gain, best gain: -inf\n",
      "[LightGBM] [Warning] No further splits with positive gain, best gain: -inf\n",
      "[LightGBM] [Warning] No further splits with positive gain, best gain: -inf\n",
      "[LightGBM] [Warning] No further splits with positive gain, best gain: -inf\n",
      "[LightGBM] [Info] Auto-choosing col-wise multi-threading, the overhead of testing was 0.111486 seconds.\n",
      "You can set `force_col_wise=true` to remove the overhead.\n",
      "[LightGBM] [Info] Total Bins 915\n",
      "[LightGBM] [Info] Number of data points in the train set: 1275489, number of used features: 7\n",
      "[LightGBM] [Info] Start training from score 39133.097043\n",
      "[LightGBM] [Warning] No further splits with positive gain, best gain: -inf\n",
      "[LightGBM] [Warning] No further splits with positive gain, best gain: -inf\n",
      "[LightGBM] [Warning] No further splits with positive gain, best gain: -inf\n"
     ]
    },
    {
     "name": "stderr",
     "output_type": "stream",
     "text": [
      "Exception ignored on calling ctypes callback function: <function _log_callback at 0x7fcd0cc2a7a0>\n",
      "Traceback (most recent call last):\n",
      "  File \"/data/ephemeral/home/level2-competitiveds-recsys-05/.venv/lib/python3.11/site-packages/lightgbm/basic.py\", line 255, in _log_callback\n",
      "    def _log_callback(msg: bytes) -> None:\n",
      "    \n",
      "KeyboardInterrupt: \n"
     ]
    },
    {
     "name": "stdout",
     "output_type": "stream",
     "text": [
      "No further splits with positive gain, best gain: -inf\n",
      "[LightGBM] [Warning] No further splits with positive gain, best gain: -inf\n",
      "[LightGBM] [Warning] No further splits with positive gain, best gain: -inf\n",
      "[LightGBM] [Warning] No further splits with positive gain, best gain: -inf\n",
      "[LightGBM] [Warning] No further splits with positive gain, best gain: -inf\n",
      "[LightGBM] [Warning] No further splits with positive gain, best gain: -inf\n",
      "[LightGBM] [Warning] No further splits with positive gain, best gain: -inf\n",
      "[LightGBM] [Warning] No further splits with positive gain, best gain: -inf\n"
     ]
    }
   ],
   "source": [
    "import lightgbm as lgb\n",
    "from sklearn.metrics import mean_absolute_error\n",
    "from sklearn.model_selection import GridSearchCV\n",
    "import wandb\n",
    "\n",
    "# W&B 초기화\n",
    "wandb.init(project='real-estate-price-prediction', name='LightGBM')\n",
    "\n",
    "# LightGBM 하이퍼파라미터 그리드 설정\n",
    "param_grid = {\n",
    "    'num_leaves': [50],\n",
    "    'max_depth': [5],\n",
    "    'learning_rate': [0.05],\n",
    "    'n_estimators': [20]\n",
    "}\n",
    "\n",
    "# LightGBM 모델 및 GridSearchCV 설정\n",
    "lgb_model = lgb.LGBMRegressor()\n",
    "grid_search = GridSearchCV(estimator=lgb_model, param_grid=param_grid, scoring='neg_mean_absolute_error', cv=2)\n",
    "grid_search.fit(X_train, y_train)\n",
    "\n",
    "# 최적의 파라미터 및 성능 출력\n",
    "print(f\"최적의 파라미터: {grid_search.best_params_}\")\n",
    "print(f\"최고 MAE: {-grid_search.best_score_:.2f}\")\n",
    "\n",
    "# Holdout 데이터셋 예측\n",
    "lgb_holdout_pred = grid_search.predict(X_holdout)\n",
    "lgb_holdout_mae = mean_absolute_error(y_holdout, lgb_holdout_pred)\n",
    "wandb.log({\"LightGBM MAE\": lgb_holdout_mae})\n"
   ]
  },
  {
   "cell_type": "markdown",
   "metadata": {},
   "source": [
    "### Lasso 모델"
   ]
  },
  {
   "cell_type": "code",
   "execution_count": null,
   "metadata": {},
   "outputs": [],
   "source": [
    "from sklearn.linear_model import Lasso\n",
    "from sklearn.model_selection import GridSearchCV\n",
    "\n",
    "# W&B 초기화\n",
    "wandb.init(project='real-estate-price-prediction', name='Lasso')\n",
    "\n",
    "# Lasso 하이퍼파라미터 그리드 설정\n",
    "param_grid = {\n",
    "    'alpha': [0.01, 0.1, 1.0, 10.0]\n",
    "}\n",
    "\n",
    "# Lasso 모델 및 GridSearchCV 설정\n",
    "lasso_model = Lasso()\n",
    "grid_search = GridSearchCV(estimator=lasso_model, param_grid=param_grid, scoring='neg_mean_absolute_error', cv=5)\n",
    "grid_search.fit(X_train, y_train)\n",
    "\n",
    "# 최적의 파라미터 및 성능 출력\n",
    "print(f\"최적의 파라미터: {grid_search.best_params_}\")\n",
    "print(f\"최고 MAE: {-grid_search.best_score_:.2f}\")\n",
    "\n",
    "# Holdout 데이터셋 예측\n",
    "lasso_holdout_pred = grid_search.predict(X_holdout)\n",
    "lasso_holdout_mae = mean_absolute_error(y_holdout, lasso_holdout_pred)\n",
    "wandb.log({\"Lasso MAE\": lasso_holdout_mae})\n",
    "\n"
   ]
  },
  {
   "cell_type": "markdown",
   "metadata": {},
   "source": [
    "### Ridge 모델"
   ]
  },
  {
   "cell_type": "code",
   "execution_count": null,
   "metadata": {},
   "outputs": [],
   "source": [
    "from sklearn.linear_model import Ridge\n",
    "from sklearn.model_selection import GridSearchCV\n",
    "\n",
    "# W&B 초기화\n",
    "wandb.init(project='real-estate-price-prediction', name='Ridge')\n",
    "\n",
    "# Ridge 하이퍼파라미터 그리드 설정\n",
    "param_grid = {\n",
    "    'alpha': [0.01, 0.1, 1.0, 10.0]\n",
    "}\n",
    "\n",
    "# Ridge 모델 및 GridSearchCV 설정\n",
    "ridge_model = Ridge()\n",
    "grid_search = GridSearchCV(estimator=ridge_model, param_grid=param_grid, scoring='neg_mean_absolute_error', cv=5)\n",
    "grid_search.fit(X_train, y_train)\n",
    "\n",
    "# 최적의 파라미터 및 성능 출력\n",
    "print(f\"최적의 파라미터: {grid_search.best_params_}\")\n",
    "print(f\"최고 MAE: {-grid_search.best_score_:.2f}\")\n",
    "\n",
    "# Holdout 데이터셋 예측\n",
    "ridge_holdout_pred = grid_search.predict(X_holdout)\n",
    "ridge_holdout_mae = mean_absolute_error(y_holdout, ridge_holdout_pred)\n",
    "wandb.log({\"Ridge MAE\": ridge_holdout_mae})"
   ]
  },
  {
   "cell_type": "markdown",
   "metadata": {},
   "source": [
    "### Random Forest 모델"
   ]
  },
  {
   "cell_type": "code",
   "execution_count": null,
   "metadata": {},
   "outputs": [],
   "source": [
    "from sklearn.ensemble import RandomForestRegressor\n",
    "from sklearn.model_selection import GridSearchCV\n",
    "\n",
    "# W&B 초기화\n",
    "wandb.init(project='real-estate-price-prediction', name='Random Forest')\n",
    "\n",
    "# Random Forest 하이퍼파라미터 그리드 설정\n",
    "param_grid = {\n",
    "    'n_estimators': [50, 100],\n",
    "    'max_depth': [None, 5, 10],\n",
    "    'min_samples_split': [2, 5]\n",
    "}\n",
    "\n",
    "# Random Forest 모델 및 GridSearchCV 설정\n",
    "rf_model = RandomForestRegressor(random_state=RANDOM_SEED)\n",
    "grid_search = GridSearchCV(estimator=rf_model, param_grid=param_grid, scoring='neg_mean_absolute_error', cv=5)\n",
    "grid_search.fit(X_train, y_train)\n",
    "\n",
    "# 최적의 파라미터 및 성능 출력\n",
    "print(f\"최적의 파라미터: {grid_search.best_params_}\")\n",
    "print(f\"최고 MAE: {-grid_search.best_score_:.2f}\")\n",
    "\n",
    "# Holdout 데이터셋 예측\n",
    "rf_holdout_pred = grid_search.predict(X_holdout)\n",
    "rf_holdout_mae = mean_absolute_error(y_holdout, rf_holdout_pred)\n",
    "wandb.log({\"Random Forest MAE\": rf_holdout_mae})\n"
   ]
  },
  {
   "cell_type": "markdown",
   "metadata": {},
   "source": [
    "### XGBoost 모델"
   ]
  },
  {
   "cell_type": "code",
   "execution_count": null,
   "metadata": {},
   "outputs": [],
   "source": [
    "import xgboost as xgb\n",
    "from sklearn.model_selection import GridSearchCV\n",
    "\n",
    "# W&B 초기화\n",
    "wandb.init(project='real-estate-price-prediction', name='XGBoost')\n",
    "\n",
    "# XGBoost 하이퍼파라미터 그리드 설정\n",
    "param_grid = {\n",
    "    'n_estimators': [50, 100],\n",
    "    'max_depth': [3, 5],\n",
    "    'learning_rate': [0.01, 0.1],\n",
    "    'subsample': [0.8, 1.0]\n",
    "}\n",
    "\n",
    "# XGBoost 모델 및 GridSearchCV 설정\n",
    "xgb_model = xgb.XGBRegressor(objective='reg:squarederror', random_state=RANDOM_SEED)\n",
    "grid_search = GridSearchCV(estimator=xgb_model, param_grid=param_grid, scoring='neg_mean_absolute_error', cv=5)\n",
    "grid_search.fit(X_train, y_train)\n",
    "\n",
    "# 최적의 파라미터 및 성능 출력\n",
    "print(f\"최적의 파라미터: {grid_search.best_params_}\")\n",
    "print(f\"최고 MAE: {-grid_search.best_score_:.2f}\")\n",
    "\n",
    "# Holdout 데이터셋 예측\n",
    "xgb_holdout_pred = grid_search.predict(X_holdout)\n",
    "xgb_holdout_mae = mean_absolute_error(y_holdout, xgb_holdout_pred)\n",
    "wandb.log({\"XGBoost MAE\": xgb_holdout_mae})"
   ]
  },
  {
   "cell_type": "markdown",
   "metadata": {},
   "source": [
    "### Linear Regression 모델"
   ]
  },
  {
   "cell_type": "code",
   "execution_count": null,
   "metadata": {},
   "outputs": [],
   "source": [
    "from sklearn.linear_model import LinearRegression\n",
    "from sklearn.model_selection import GridSearchCV\n",
    "\n",
    "# W&B 초기화\n",
    "wandb.init(project='real-estate-price-prediction', name='Linear Regression')\n",
    "\n",
    "# Linear Regression 모델은 하이퍼파라미터가 없음. 기본 모델 학습\n",
    "lr_model = LinearRegression()\n",
    "lr_model.fit(X_train, y_train)\n",
    "\n",
    "# Holdout 데이터셋 예측\n",
    "lr_holdout_pred = lr_model.predict(X_holdout)\n",
    "lr_holdout_mae = mean_absolute_error(y_holdout, lr_holdout_pred)\n",
    "wandb.log({\"Linear Regression MAE\": lr_holdout_mae})\n",
    "\n",
    "print(\"Holdout 데이터셋 성능:\")\n",
    "print(f\"Linear Regression MAE: {lr_holdout_mae:.2f}\")"
   ]
  },
  {
   "cell_type": "markdown",
   "metadata": {},
   "source": [
    "## Streamlit 활용 예시"
   ]
  },
  {
   "cell_type": "code",
   "execution_count": null,
   "metadata": {},
   "outputs": [],
   "source": [
    "import streamlit as st\n",
    "import pandas as pd\n",
    "import numpy as np\n",
    "import lightgbm as lgb\n",
    "from sklearn.linear_model import Lasso, Ridge, LinearRegression\n",
    "from sklearn.ensemble import RandomForestRegressor\n",
    "import xgboost as xgb\n",
    "\n",
    "# Set random seed for reproducibility\n",
    "RANDOM_SEED = 42\n",
    "np.random.seed(RANDOM_SEED)\n",
    "\n",
    "# Load your models (assumes models are trained and saved)\n",
    "lgb_model = lgb.Booster(model_file='lightgbm_model.txt')\n",
    "lasso_model = Lasso()  # Load your trained Lasso model\n",
    "lasso_model.load('lasso_model.pkl')  # Assuming saved as a pickle\n",
    "ridge_model = Ridge()  # Load your trained Ridge model\n",
    "ridge_model.load('ridge_model.pkl')  # Assuming saved as a pickle\n",
    "rf_model = RandomForestRegressor()  # Load your trained Random Forest model\n",
    "rf_model.load('rf_model.pkl')  # Assuming saved as a pickle\n",
    "xgb_model = xgb.XGBRegressor()  # Load your trained XGBoost model\n",
    "xgb_model.load('xgboost_model.pkl')  # Assuming saved as a pickle\n",
    "lr_model = LinearRegression()  # Load your trained Linear Regression model\n",
    "lr_model.load('linear_model.pkl')  # Assuming saved as a pickle\n",
    "\n",
    "# Streamlit UI setup\n",
    "st.title(\"부동산 전세가 예측\")\n",
    "\n",
    "# User input fields\n",
    "area = st.number_input(\"면적 (m²)\", min_value=1.0, max_value=10000.0, value=50.0)\n",
    "contract_year_month = st.number_input(\"계약 연도 및 월 (예: 202307)\", min_value=202001, max_value=202312, value=202307)\n",
    "contract_day = st.number_input(\"계약 일\", min_value=1, max_value=31, value=1)\n",
    "contract_type = st.selectbox(\"계약 유형\", options=[\"전세\", \"월세\", \"매매\"])\n",
    "floor = st.number_input(\"층\", min_value=0, max_value=50, value=1)\n",
    "latitude = st.number_input(\"위도\", min_value=36.0, max_value=38.5, value=37.5)\n",
    "longitude = st.number_input(\"경도\", min_value=126.0, max_value=128.0, value=127.0)\n",
    "\n",
    "# Predict button\n",
    "if st.button(\"예측하기\"):\n",
    "    # Create input DataFrame\n",
    "    input_data = pd.DataFrame({\n",
    "        'area_m2': [area],\n",
    "        'contract_year_month': [contract_year_month],\n",
    "        'contract_day': [contract_day],\n",
    "        'contract_type': [contract_type],\n",
    "        'floor': [floor],\n",
    "        'latitude': [latitude],\n",
    "        'longitude': [longitude]\n",
    "    })\n",
    "    \n",
    "    # Process the input data as necessary\n",
    "    # For example, convert categorical variables to numerical\n",
    "    input_data['contract_type'] = input_data['contract_type'].map({'전세': 0, '월세': 1, '매매': 2})\n",
    "\n",
    "    # Make predictions\n",
    "    lgb_pred = lgb_model.predict(input_data)\n",
    "    lasso_pred = lasso_model.predict(input_data)\n",
    "    ridge_pred = ridge_model.predict(input_data)\n",
    "    rf_pred = rf_model.predict(input_data)\n",
    "    xgb_pred = xgb_model.predict(input_data)\n",
    "    lr_pred = lr_model.predict(input_data)\n",
    "\n",
    "    # Display the results\n",
    "    st.subheader(\"예측 결과\")\n",
    "    st.write(f\"LightGBM 예측: {lgb_pred[0]:.2f} 원\")\n",
    "    st.write(f\"Lasso 예측: {lasso_pred[0]:.2f} 원\")\n",
    "    st.write(f\"Ridge 예측: {ridge_pred[0]:.2f} 원\")\n",
    "    st.write(f\"Random Forest 예측: {rf_pred[0]:.2f} 원\")\n",
    "    st.write(f\"XGBoost 예측: {xgb_pred[0]:.2f} 원\")\n",
    "    st.write(f\"Linear Regression 예측: {lr_pred[0]:.2f} 원\")"
   ]
  },
  {
   "cell_type": "markdown",
   "metadata": {},
   "source": [
    "## Submission 제출"
   ]
  },
  {
   "cell_type": "code",
   "execution_count": null,
   "metadata": {},
   "outputs": [],
   "source": [
    "lgb_test_pred = lgb_model.predict(X_test)\n",
    "sample_submission['deposit'] = lgb_test_pred\n",
    "sample_submission.to_csv('output.csv', index=False, encoding='utf-8-sig')"
   ]
  }
 ],
 "metadata": {
  "kernelspec": {
   "display_name": ".venv",
   "language": "python",
   "name": "python3"
  },
  "language_info": {
   "codemirror_mode": {
    "name": "ipython",
    "version": 3
   },
   "file_extension": ".py",
   "mimetype": "text/x-python",
   "name": "python",
   "nbconvert_exporter": "python",
   "pygments_lexer": "ipython3",
   "version": "3.11.0"
  }
 },
 "nbformat": 4,
 "nbformat_minor": 2
}
