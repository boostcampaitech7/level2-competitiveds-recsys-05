{
 "cells": [
  {
   "cell_type": "markdown",
   "metadata": {},
   "source": [
    "## 1. 데이터 로드"
   ]
  },
  {
   "cell_type": "code",
   "execution_count": 20,
   "metadata": {},
   "outputs": [],
   "source": [
    "import os\n",
    "import pandas as pd\n",
    "import numpy as np\n",
    "import matplotlib.pyplot as plt\n",
    "import seaborn as sns\n",
    "from tqdm import tqdm\n",
    "\n",
    "# 모델링 관련 라이브러리\n",
    "from sklearn.neighbors import BallTree\n",
    "from sklearn.model_selection import StratifiedKFold, GroupKFold, StratifiedGroupKFold, cross_val_score\n",
    "from sklearn.preprocessing import StandardScaler, MinMaxScaler, RobustScaler, PowerTransformer\n",
    "from sklearn.linear_model import LinearRegression, Lasso, Ridge, ElasticNet\n",
    "from sklearn.tree import DecisionTreeRegressor\n",
    "from sklearn.ensemble import RandomForestRegressor\n",
    "from lightgbm import LGBMRegressor\n",
    "import xgboost as xgb\n",
    "from catboost import CatBoostRegressor\n",
    "from ngboost import NGBRegressor\n",
    "from sklearn.metrics import mean_absolute_error, mean_squared_error\n",
    "\n",
    "# 거리 계산 및 공간 분석 라이브러리\n",
    "from sklearn.neighbors import BallTree\n",
    "\n",
    "# 경고 무시\n",
    "import warnings\n",
    "warnings.filterwarnings('ignore')"
   ]
  },
  {
   "cell_type": "code",
   "execution_count": 2,
   "metadata": {},
   "outputs": [],
   "source": [
    "# seed 설정\n",
    "RANDOM_SEED = 42\n",
    "np.random.seed(RANDOM_SEED)"
   ]
  },
  {
   "cell_type": "code",
   "execution_count": 3,
   "metadata": {},
   "outputs": [],
   "source": [
    "# 파일 경로 설정\n",
    "file_path = '../data/'\n",
    "\n",
    "df = pd.read_csv(os.path.join(file_path, 'processed_data.csv'))"
   ]
  },
  {
   "cell_type": "code",
   "execution_count": 4,
   "metadata": {},
   "outputs": [],
   "source": [
    "# 월별 거래 건수 계산\n",
    "monthly_transaction_counts = df.groupby('contract_year_month').size().reset_index(name='monthly_transaction_count')\n",
    "\n",
    "df = df.merge(monthly_transaction_counts, on='contract_year_month', how='left')\n",
    "\n",
    "# 계약 연도 및 월 추출\n",
    "df['contract_year'] = df['contract_year_month'].astype(str).str[:4].astype(int)\n",
    "df['contract_month'] = df['contract_year_month'].astype(str).str[4:6].astype(int)\n",
    "\n",
    "# 계약 날짜 생성\n",
    "df['contract_date'] = pd.to_datetime(df['contract_year_month'].astype(str) + df['contract_day'].astype(str), format='%Y%m%d')\n",
    "\n",
    "# 계약 요일 추출 (0: 월요일, 6: 일요일)\n",
    "df['contract_weekday'] = df['contract_date'].dt.weekday"
   ]
  },
  {
   "cell_type": "code",
   "execution_count": 5,
   "metadata": {},
   "outputs": [],
   "source": [
    "df['contract_date'] = df['contract_date'].astype(str)"
   ]
  },
  {
   "cell_type": "code",
   "execution_count": 6,
   "metadata": {},
   "outputs": [],
   "source": [
    "def reduce_mem_usage(df):\n",
    "    \"\"\"\n",
    "    Iterate through all the columns of a dataframe and modify the data type\n",
    "    to reduce memory usage.\n",
    "    \"\"\"\n",
    "    start_mem = df.memory_usage().sum() / 1024**2  # Memory usage before optimization\n",
    "    print('Memory usage of dataframe is {:.2f} MB'.format(start_mem))\n",
    "\n",
    "    for col in df.columns:\n",
    "        col_type = df[col].dtype\n",
    "        if str(col_type)==\"category\":\n",
    "            continue\n",
    "\n",
    "        if col_type != object:\n",
    "            c_min = df[col].min()\n",
    "            c_max = df[col].max()\n",
    "            if str(col_type)[:3] == 'int':\n",
    "                if c_min > np.iinfo(np.int8).min and c_max < np.iinfo(np.int8).max:\n",
    "                    df[col] = df[col].astype(np.int8)\n",
    "                elif c_min > np.iinfo(np.int16).min and c_max < np.iinfo(np.int16).max:\n",
    "                    df[col] = df[col].astype(np.int16)\n",
    "                elif c_min > np.iinfo(np.int32).min and c_max < np.iinfo(np.int32).max:\n",
    "                    df[col] = df[col].astype(np.int32)\n",
    "                elif c_min > np.iinfo(np.int64).min and c_max < np.iinfo(np.int64).max:\n",
    "                    df[col] = df[col].astype(np.int64)\n",
    "            else:\n",
    "                if c_min > np.finfo(np.float16).min and c_max < np.finfo(np.float16).max:\n",
    "                    df[col] = df[col].astype(np.float16)\n",
    "                elif c_min > np.finfo(np.float32).min and c_max < np.finfo(np.float32).max:\n",
    "                    df[col] = df[col].astype(np.float32)\n",
    "                else:\n",
    "                    df[col] = df[col].astype(np.float64)\n",
    "        else:\n",
    "            continue\n",
    "    end_mem = df.memory_usage().sum() / 1024**2  # Memory usage after optimization\n",
    "    print('Memory usage after optimization is: {:.2f} MB'.format(end_mem))\n",
    "    print('Decreased by {:.1f}%'.format(100 * (start_mem - end_mem) / start_mem))\n",
    "\n",
    "    return df"
   ]
  },
  {
   "cell_type": "code",
   "execution_count": 7,
   "metadata": {},
   "outputs": [
    {
     "name": "stdout",
     "output_type": "stream",
     "text": [
      "Memory usage of dataframe is 379.64 MB\n",
      "Memory usage after optimization is: 137.71 MB\n",
      "Decreased by 63.7%\n"
     ]
    }
   ],
   "source": [
    "df = reduce_mem_usage(df)"
   ]
  },
  {
   "cell_type": "markdown",
   "metadata": {},
   "source": [
    "## **2. 반경 이내 시설물 개수 변수 추가**\n",
    "\n",
    "### **2.1. 좌표 데이터 준비**\n",
    "\n",
    "시설물의 위도와 경도 데이터를 사용하여 각 아파트 주변의 시설물 개수를 계산합니다."
   ]
  },
  {
   "cell_type": "code",
   "execution_count": 8,
   "metadata": {},
   "outputs": [],
   "source": [
    "# 파일 경로 설정\n",
    "file_path = '../data/'\n",
    "\n",
    "# 추가 데이터 로드 (학교, 지하철, 공원 정보)\n",
    "school_info = pd.read_csv(os.path.join(file_path, 'schoolinfo.csv'))\n",
    "subway_info = pd.read_csv(os.path.join(file_path, 'subwayInfo.csv'))\n",
    "park_info = pd.read_csv(os.path.join(file_path, 'parkInfo.csv'))"
   ]
  },
  {
   "cell_type": "code",
   "execution_count": 9,
   "metadata": {},
   "outputs": [],
   "source": [
    "# 아파트 좌표 추출\n",
    "apartment_coords = np.radians(df[['latitude', 'longitude']].values)\n",
    "\n",
    "# 학교 좌표 추출\n",
    "elementary_coords = np.radians(school_info[school_info['schoolLevel'] == 'elementary'][['latitude', 'longitude']].values)\n",
    "middle_coords = np.radians(school_info[school_info['schoolLevel'] == 'middle'][['latitude', 'longitude']].values)\n",
    "high_coords = np.radians(school_info[school_info['schoolLevel'] == 'high'][['latitude', 'longitude']].values)\n",
    "\n",
    "# 지하철 좌표 추출\n",
    "subway_coords = np.radians(subway_info[['latitude', 'longitude']].values)\n",
    "\n",
    "# 공원 좌표 추출\n",
    "park_coords = np.radians(park_info[['latitude', 'longitude']].values)"
   ]
  },
  {
   "cell_type": "markdown",
   "metadata": {},
   "source": [
    "### 2.2. BallTree를 사용한 반경 내 시설물 개수 계산 함수"
   ]
  },
  {
   "cell_type": "code",
   "execution_count": 10,
   "metadata": {},
   "outputs": [],
   "source": [
    "def count_within_radius(apartment_coords, target_coords, radius_km):\n",
    "    # 지구 반지름 (킬로미터)\n",
    "    earth_radius = 6371.0\n",
    "    # 반경을 라디안으로 변환\n",
    "    radius = radius_km / earth_radius\n",
    "    # BallTree 생성\n",
    "    tree = BallTree(target_coords, metric='haversine')\n",
    "    # 반경 내 시설물 개수 계산\n",
    "    counts = tree.query_radius(apartment_coords, r=radius, count_only=True)\n",
    "    return counts"
   ]
  },
  {
   "cell_type": "markdown",
   "metadata": {},
   "source": [
    "### **2.3. 시설물 개수 계산 및 데이터프레임에 추가**\n",
    "\n",
    "### **(a) 초등학교, 중학교, 고등학교**"
   ]
  },
  {
   "cell_type": "code",
   "execution_count": 11,
   "metadata": {},
   "outputs": [],
   "source": [
    "# 반경 설정 (1km, 3km)\n",
    "school_radii = [1, 3]\n",
    "\n",
    "for radius in school_radii:\n",
    "    # 초등학교\n",
    "    counts_elementary = count_within_radius(apartment_coords, elementary_coords, radius_km=radius)\n",
    "    df[f'num_elementary_within_{radius}km'] = counts_elementary\n",
    "    # 중학교\n",
    "    counts_middle = count_within_radius(apartment_coords, middle_coords, radius_km=radius)\n",
    "    df[f'num_middle_within_{radius}km'] = counts_middle\n",
    "    # 고등학교\n",
    "    counts_high = count_within_radius(apartment_coords, high_coords, radius_km=radius)\n",
    "    df[f'num_high_within_{radius}km'] = counts_high"
   ]
  },
  {
   "cell_type": "markdown",
   "metadata": {},
   "source": [
    "### (b) 지하철역"
   ]
  },
  {
   "cell_type": "code",
   "execution_count": 12,
   "metadata": {},
   "outputs": [
    {
     "name": "stderr",
     "output_type": "stream",
     "text": [
      "  0%|          | 0/3 [00:00<?, ?it/s]"
     ]
    },
    {
     "name": "stderr",
     "output_type": "stream",
     "text": [
      "100%|██████████| 3/3 [01:42<00:00, 34.13s/it]\n"
     ]
    }
   ],
   "source": [
    "# 반경 설정 (0.5km, 1.5km, 3km)\n",
    "subway_radii = [0.5, 1.5, 3]\n",
    "\n",
    "for radius in tqdm(subway_radii):\n",
    "    counts_subway = count_within_radius(apartment_coords, subway_coords, radius_km=radius)\n",
    "    df[f'num_subway_within_{radius}km'] = counts_subway"
   ]
  },
  {
   "cell_type": "markdown",
   "metadata": {},
   "source": [
    "### (c) 공원"
   ]
  },
  {
   "cell_type": "code",
   "execution_count": 13,
   "metadata": {},
   "outputs": [
    {
     "name": "stderr",
     "output_type": "stream",
     "text": [
      "100%|██████████| 2/2 [02:18<00:00, 69.01s/it]\n"
     ]
    }
   ],
   "source": [
    "# 반경 설정 (1km, 5km)\n",
    "park_radii = [1, 5]\n",
    "\n",
    "for radius in tqdm(park_radii):\n",
    "    counts_park = count_within_radius(apartment_coords, park_coords, radius_km=radius)\n",
    "    df[f'num_park_within_{radius}km'] = counts_park"
   ]
  },
  {
   "cell_type": "code",
   "execution_count": 14,
   "metadata": {},
   "outputs": [
    {
     "name": "stdout",
     "output_type": "stream",
     "text": [
      "Memory usage of dataframe is 301.48 MB\n",
      "Memory usage after optimization is: 160.05 MB\n",
      "Decreased by 46.9%\n"
     ]
    }
   ],
   "source": [
    "df = reduce_mem_usage(df)"
   ]
  },
  {
   "cell_type": "code",
   "execution_count": 15,
   "metadata": {},
   "outputs": [],
   "source": [
    "df = df.drop(['built_year', 'interest_rate'], axis=1)"
   ]
  },
  {
   "cell_type": "code",
   "execution_count": 22,
   "metadata": {},
   "outputs": [],
   "source": [
    "# df.to_csv(\"../data/processed_data_2.csv\", index=False)"
   ]
  },
  {
   "cell_type": "code",
   "execution_count": 16,
   "metadata": {},
   "outputs": [
    {
     "name": "stdout",
     "output_type": "stream",
     "text": [
      "학습 데이터 크기: (1801228, 34)\n",
      "테스트 데이터 크기: (150172, 34)\n"
     ]
    }
   ],
   "source": [
    "train_df = df.loc[df['_type'] == 'train'].drop('year_month_date', axis=1)\n",
    "test_df = df.loc[df['_type'] == 'test'].drop('year_month_date', axis=1)\n",
    "\n",
    "print(f'학습 데이터 크기: {train_df.shape}')\n",
    "print(f'테스트 데이터 크기: {test_df.shape}')"
   ]
  },
  {
   "cell_type": "code",
   "execution_count": 17,
   "metadata": {},
   "outputs": [
    {
     "data": {
      "text/plain": [
       "Index(['index', 'area_m2', 'contract_year_month', 'contract_day',\n",
       "       'contract_type', 'floor', 'latitude', 'longitude', 'age', 'deposit',\n",
       "       '_type', 'nearest_subway_distance_km', 'prev_month_interest_rate',\n",
       "       'nearest_elementary_distance_km', 'nearest_middle_distance_km',\n",
       "       'nearest_high_distance_km', 'nearest_park_distance_km',\n",
       "       'nearest_park_area', 'monthly_transaction_count', 'contract_year',\n",
       "       'contract_month', 'contract_date', 'contract_weekday',\n",
       "       'num_elementary_within_1km', 'num_middle_within_1km',\n",
       "       'num_high_within_1km', 'num_elementary_within_3km',\n",
       "       'num_middle_within_3km', 'num_high_within_3km',\n",
       "       'num_subway_within_0.5km', 'num_subway_within_1.5km',\n",
       "       'num_subway_within_3km', 'num_park_within_1km', 'num_park_within_5km'],\n",
       "      dtype='object')"
      ]
     },
     "execution_count": 17,
     "metadata": {},
     "output_type": "execute_result"
    }
   ],
   "source": [
    "train_df.columns"
   ]
  },
  {
   "cell_type": "markdown",
   "metadata": {},
   "source": [
    "## **3. 변수 변환**\n",
    "\n",
    "`floor`와 `age` 등의 변수에 음수나 0이 포함되어 있으므로, Yeo-Johnson 변환을 사용합니다.\n",
    "\n",
    "### **3.1. 변환할 변수 선택**"
   ]
  },
  {
   "cell_type": "code",
   "execution_count": 18,
   "metadata": {},
   "outputs": [],
   "source": [
    "# 변환할 수치형 변수 목록\n",
    "numeric_cols = ['area_m2', 'floor', 'age', 'prev_month_interest_rate', 'nearest_subway_distance_km',\n",
    "                'nearest_elementary_distance_km', 'nearest_middle_distance_km', 'nearest_high_distance_km',\n",
    "                'nearest_park_distance_km', 'nearest_park_area',\n",
    "                'num_elementary_within_1km', 'num_elementary_within_3km',\n",
    "                'num_middle_within_1km', 'num_middle_within_3km',\n",
    "                'num_high_within_1km', 'num_high_within_3km',\n",
    "                'num_subway_within_0.5km', 'num_subway_within_1.5km', 'num_subway_within_3km',\n",
    "                'num_park_within_1km', 'num_park_within_5km']"
   ]
  },
  {
   "cell_type": "markdown",
   "metadata": {},
   "source": [
    "### 3.2. Yeo-Johnson 변환 적용"
   ]
  },
  {
   "cell_type": "code",
   "execution_count": 19,
   "metadata": {},
   "outputs": [],
   "source": [
    "# Yeo-Johnson 변환기 생성\n",
    "pt = PowerTransformer(method='yeo-johnson')\n",
    "\n",
    "# 안전하게 변환을 적용하기 위해 열마다 변환 시도\n",
    "X_train = train_df[numeric_cols].copy()\n",
    "X_test = test_df[numeric_cols].copy()\n",
    "\n",
    "successful_cols = []  # 변환에 성공한 컬럼을 추적\n",
    "\n",
    "# 0 값 또는 음수 값을 작은 양수로 대체하는 함수\n",
    "def replace_zero_negatives(df, col):\n",
    "    df[col] = df[col].apply(lambda x: 0.0001 if x <= 0 else x)\n",
    "    return df\n",
    "\n",
    "for col in numeric_cols:\n",
    "    try:\n",
    "        # 변환 적용 전 0 값 또는 음수 값 처리\n",
    "        X_train = replace_zero_negatives(X_train, col)\n",
    "        X_test = replace_zero_negatives(X_test, col)\n",
    "        \n",
    "        # 변환 시도\n",
    "        X_train[col] = pt.fit_transform(X_train[[col]])\n",
    "        X_test[col] = pt.transform(X_test[[col]])\n",
    "        successful_cols.append(col)\n",
    "    except Exception as e:\n",
    "        print(f\"컬럼 '{col}' 변환 중 오류 발생: {e}\")\n",
    "\n",
    "# 변환된 데이터프레임 생성\n",
    "df_transformed_train = pd.DataFrame(X_train, columns=successful_cols, index=train_df.index)\n",
    "df_transformed_test = pd.DataFrame(X_test, columns=successful_cols, index=test_df.index)\n",
    "\n",
    "# 원본 데이터프레임에 변환된 값 업데이트\n",
    "train_df[successful_cols] = df_transformed_train\n",
    "test_df[successful_cols] = df_transformed_test"
   ]
  },
  {
   "cell_type": "code",
   "execution_count": 24,
   "metadata": {},
   "outputs": [
    {
     "name": "stdout",
     "output_type": "stream",
     "text": [
      "Memory usage of dataframe is 374.48 MB\n",
      "Memory usage after optimization is: 158.04 MB\n",
      "Decreased by 57.8%\n",
      "Memory usage of dataframe is 31.22 MB\n",
      "Memory usage after optimization is: 13.75 MB\n",
      "Decreased by 56.0%\n"
     ]
    }
   ],
   "source": [
    "train_df = reduce_mem_usage(train_df)\n",
    "test_df = reduce_mem_usage(test_df)"
   ]
  },
  {
   "cell_type": "markdown",
   "metadata": {},
   "source": [
    "## 4. 모델링 및 평가\n",
    "\n",
    "### **4.1. 데이터 준비**\n",
    "\n",
    "### **(a) 특성과 타겟 변수 분리**"
   ]
  },
  {
   "cell_type": "code",
   "execution_count": 33,
   "metadata": {},
   "outputs": [],
   "source": [
    "# 타겟 변수\n",
    "target = 'deposit'\n",
    "\n",
    "# 사용하지 않을 열\n",
    "unused_cols = ['index', '_type', 'contract_year_month', 'contract_day', 'contract_date', 'contract_weekday']\n",
    "\n",
    "# 모델에 사용할 특성 목록\n",
    "feature_cols = train_df.columns.drop([target] + unused_cols).tolist()\n",
    "\n",
    "# 훈련 데이터와 테스트 데이터 분리\n",
    "X = train_df[feature_cols]\n",
    "y = train_df[target]\n",
    "X_test = test_df[feature_cols]"
   ]
  },
  {
   "cell_type": "markdown",
   "metadata": {},
   "source": [
    "### **(b) Stratified Group K-Fold 준비**\n",
    "\n",
    "`deposit`을 binning하여 stratify하고, `contract_year_month`를 그룹으로 사용합니다."
   ]
  },
  {
   "cell_type": "code",
   "execution_count": 34,
   "metadata": {},
   "outputs": [],
   "source": [
    "# 타겟 변수 binning (예: 10구간)\n",
    "train_df['deposit_bin'] = pd.qcut(y, q=10, labels=False)\n",
    "\n",
    "# 그룹 변수 설정\n",
    "groups = train_df['contract_year_month']\n",
    "\n",
    "# StratifiedGroupKFold 객체 생성\n",
    "n_splits = 5\n",
    "skf = StratifiedGroupKFold(n_splits=n_splits, shuffle=True, random_state=42)"
   ]
  },
  {
   "cell_type": "markdown",
   "metadata": {},
   "source": [
    "### **4.2. 모델 리스트 정의**\n",
    "\n",
    "사용할 모델들을 딕셔너리로 정의합니다."
   ]
  },
  {
   "cell_type": "code",
   "execution_count": 35,
   "metadata": {},
   "outputs": [],
   "source": [
    "models = {\n",
    "    'LinearRegression': LinearRegression(),\n",
    "    'Lasso': Lasso(alpha=0.1),\n",
    "    'Ridge': Ridge(alpha=1.0),\n",
    "    'ElasticNet': ElasticNet(alpha=0.1, l1_ratio=0.5),\n",
    "    'DecisionTree': DecisionTreeRegressor(random_state=42),\n",
    "    'RandomForest': RandomForestRegressor(n_estimators=100, random_state=42),\n",
    "    'LGBM': LGBMRegressor(n_estimators=100, random_state=42),\n",
    "    'XGBoost': xgb.XGBRegressor(n_estimators=100, random_state=42),\n",
    "    'CatBoost': CatBoostRegressor(n_estimators=100, verbose=0, random_state=42),\n",
    "    'NGBoost': NGBRegressor(n_estimators=100, random_state=42)\n",
    "}"
   ]
  },
  {
   "cell_type": "code",
   "execution_count": 36,
   "metadata": {},
   "outputs": [],
   "source": [
    "def evaluate_model(model, X, y, groups, cv):\n",
    "    mae_scores = []\n",
    "    rmse_scores = []\n",
    "    fold_scores = []  # 폴드별 결과 저장\n",
    "    \n",
    "    for fold, (train_idx, val_idx) in enumerate(cv.split(X, train_df['deposit_bin'], groups), 1):\n",
    "        X_train_fold, X_val_fold = X.iloc[train_idx], X.iloc[val_idx]\n",
    "        y_train_fold, y_val_fold = y.iloc[train_idx], y.iloc[val_idx]\n",
    "\n",
    "        # 모델 학습\n",
    "        model.fit(X_train_fold, y_train_fold)\n",
    "        # 예측\n",
    "        y_pred = model.predict(X_val_fold)\n",
    "        # 평가 지표 계산\n",
    "        mae = mean_absolute_error(y_val_fold, y_pred)\n",
    "        rmse = np.sqrt(mean_squared_error(y_val_fold, y_pred))\n",
    "        \n",
    "        # 폴드별 점수 저장\n",
    "        mae_scores.append(mae)\n",
    "        rmse_scores.append(rmse)\n",
    "        \n",
    "        # 폴드 결과 출력\n",
    "        print(f\"Fold {fold} - MAE: {mae:.2f}, RMSE: {rmse:.2f}\")\n",
    "        \n",
    "        # 각 폴드의 결과 저장\n",
    "        fold_scores.append({\n",
    "            'Fold': fold,\n",
    "            'MAE': mae,\n",
    "            'RMSE': rmse\n",
    "        })\n",
    "        \n",
    "    return np.mean(mae_scores), np.mean(rmse_scores), fold_scores"
   ]
  },
  {
   "cell_type": "markdown",
   "metadata": {},
   "source": [
    "### 4.4. 모델 학습 및 평가"
   ]
  },
  {
   "cell_type": "code",
   "execution_count": 37,
   "metadata": {},
   "outputs": [
    {
     "name": "stdout",
     "output_type": "stream",
     "text": [
      "LinearRegression - MAE: 11230.78, RMSE: 16896.45\n"
     ]
    }
   ],
   "source": [
    "results = []\n",
    "\n",
    "for name, model in models.items():\n",
    "    mae, rmse, fold_scores = evaluate_model(model, X, y, groups, skf)\n",
    "    \n",
    "    # 모델의 평균 결과 출력\n",
    "    print(f\"{name} - 평균 MAE: {mae:.2f}, 평균 RMSE: {rmse:.2f}\")\n",
    "    \n",
    "    # 각 폴드별 결과 저장\n",
    "    for fold_score in fold_scores:\n",
    "        results.append({\n",
    "            'Model': name,\n",
    "            'Fold': fold_score['Fold'],\n",
    "            'MAE': fold_score['MAE'],\n",
    "            'RMSE': fold_score['RMSE']\n",
    "        })"
   ]
  },
  {
   "cell_type": "code",
   "execution_count": null,
   "metadata": {},
   "outputs": [],
   "source": []
  }
 ],
 "metadata": {
  "kernelspec": {
   "display_name": ".venv",
   "language": "python",
   "name": "python3"
  },
  "language_info": {
   "codemirror_mode": {
    "name": "ipython",
    "version": 3
   },
   "file_extension": ".py",
   "mimetype": "text/x-python",
   "name": "python",
   "nbconvert_exporter": "python",
   "pygments_lexer": "ipython3",
   "version": "3.11.0"
  }
 },
 "nbformat": 4,
 "nbformat_minor": 2
}
