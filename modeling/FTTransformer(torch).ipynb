{
 "cells": [
  {
   "cell_type": "markdown",
   "metadata": {},
   "source": [
    "# 데이터 불러오기"
   ]
  },
  {
   "cell_type": "code",
   "execution_count": 79,
   "metadata": {},
   "outputs": [],
   "source": [
    "import pandas as pd\n",
    "import numpy as np\n",
    "from sklearn.metrics import root_mean_squared_error, mean_absolute_error\n",
    "\n",
    "RANDOM_SEED = 42\n",
    "np.random.seed(RANDOM_SEED)\n",
    "\n",
    "# 파일 경로 설정\n",
    "file_path = '../data/'\n",
    "\n",
    "# 파일 불러오기\n",
    "df = pd.read_csv(file_path + '123.csv')\n",
    "sample_submission = pd.read_csv(file_path + 'sample_submission.csv')"
   ]
  },
  {
   "cell_type": "code",
   "execution_count": 80,
   "metadata": {},
   "outputs": [],
   "source": [
    "# train, test split\n",
    "train = df[df[\"_type\"] == \"train\"]\n",
    "test = df[df[\"_type\"] == \"test\"]"
   ]
  },
  {
   "cell_type": "code",
   "execution_count": 81,
   "metadata": {},
   "outputs": [],
   "source": [
    "from sklearn.model_selection import train_test_split\n",
    "\n",
    "holdout_start = 202307\n",
    "holdout_end = 202312\n",
    "holdout_data = train[(train['contract_year_month'] >= holdout_start) & (train['contract_year_month'] <= holdout_end)]\n",
    "train_data = train[~(train['contract_year_month'] >= holdout_start) & (train['contract_year_month'] <= holdout_end)]\n",
    "\n",
    "X_train_full = train_data.drop('deposit', axis=1)\n",
    "y_train_full = train_data['deposit']\n",
    "X_holdout = holdout_data.drop('deposit', axis=1)\n",
    "y_holdout = holdout_data['deposit']\n",
    "X_test = test.copy()\n",
    "\n",
    "# 학습 데이터와 검증 데이터 분리\n",
    "X_train, X_val, y_train, y_val = train_test_split(\n",
    "    X_train_full,\n",
    "    y_train_full,\n",
    "    test_size=0.2,\n",
    "    random_state=RANDOM_SEED\n",
    ")"
   ]
  },
  {
   "cell_type": "markdown",
   "metadata": {},
   "source": [
    "# 모델링"
   ]
  },
  {
   "cell_type": "markdown",
   "metadata": {},
   "source": [
    "## FTTransformer"
   ]
  },
  {
   "cell_type": "markdown",
   "metadata": {},
   "source": [
    "Tree 모델과는 달리 스케일링 필요   \n",
    "독립 변수(연속) : 여존슨 스케일링   \n",
    "종속 변수 : 로그 변환   \n",
    "범주형 변수 : 라벨 인코딩   "
   ]
  },
  {
   "cell_type": "code",
   "execution_count": 82,
   "metadata": {},
   "outputs": [
    {
     "data": {
      "text/plain": [
       "device(type='cuda', index=0)"
      ]
     },
     "execution_count": 82,
     "metadata": {},
     "output_type": "execute_result"
    }
   ],
   "source": [
    "import torch\n",
    "device = torch.device(\"cuda:0\" if torch.cuda.is_available() else \"cpu\")\n",
    "device"
   ]
  },
  {
   "cell_type": "code",
   "execution_count": 83,
   "metadata": {},
   "outputs": [
    {
     "data": {
      "text/plain": [
       "Index(['index', 'area_m2', 'contract_year_month', 'contract_day',\n",
       "       'contract_type', 'floor', 'built_year', 'latitude', 'longitude', 'age',\n",
       "       'complex_id', 'max_deposit', 'cluster_labels', 'deposit_per_area',\n",
       "       'year', 'mean_deposit_per_area_year', 'pred_deposit_per_area', '_type',\n",
       "       'pred_deposit'],\n",
       "      dtype='object')"
      ]
     },
     "execution_count": 83,
     "metadata": {},
     "output_type": "execute_result"
    }
   ],
   "source": [
    "X_train.columns"
   ]
  },
  {
   "cell_type": "code",
   "execution_count": 84,
   "metadata": {},
   "outputs": [],
   "source": [
    "categorical_columns = [\n",
    "    'contract_type', 'complex_id'\n",
    "]\n",
    "cat_cardinalities = [df['contract_type'].unique().shape[0], df['complex_id'].unique().shape[0]]\n",
    "\n",
    "continuous_columns = [\n",
    "    'area_m2', 'contract_year_month', 'floor', 'latitude', 'longitude', 'age',\n",
    "    'max_deposit', 'pred_deposit_per_area', 'pred_deposit'\n",
    "]\n",
    "n_cont_features = len(continuous_columns)"
   ]
  },
  {
   "cell_type": "code",
   "execution_count": 87,
   "metadata": {},
   "outputs": [],
   "source": [
    "from sklearn.preprocessing import StandardScaler, PowerTransformer, RobustScaler\n",
    "pt = PowerTransformer(method='yeo-johnson')\n",
    "pt = RobustScaler()\n",
    "\n",
    "X_train_cont = torch.Tensor(pt.fit_transform(X_train[continuous_columns])).to(device)\n",
    "X_val_cont = torch.Tensor(pt.transform(X_val[continuous_columns])).to(device)\n",
    "X_holdout_cont = torch.Tensor(pt.transform(X_holdout[continuous_columns])).to(device)\n",
    "\n",
    "X_train_cat = torch.Tensor(X_train[categorical_columns].values).long().to(device)\n",
    "X_val_cat = torch.Tensor(X_val[categorical_columns].values).long().to(device)\n",
    "X_holdout_cat = torch.Tensor(X_holdout[categorical_columns].values).long().to(device)\n",
    "\n",
    "y_train_log = torch.Tensor(np.log1p(y_train).values).to(device)\n",
    "y_val_log = torch.Tensor(np.log1p(y_val).values).to(device)\n",
    "y_holdout_log = torch.Tensor(np.log1p(y_holdout).values).to(device)"
   ]
  },
  {
   "cell_type": "code",
   "execution_count": 73,
   "metadata": {},
   "outputs": [],
   "source": [
    "from torch.utils.data import DataLoader, TensorDataset\n",
    "# TensorDataset과 DataLoader를 사용해 배치 단위로 데이터 로드\n",
    "batch_size = 256  # 배치 사이즈 설정\n",
    "\n",
    "train_dataset = TensorDataset(X_train_cont, X_train_cat, y_train_log)\n",
    "train_loader = DataLoader(train_dataset, batch_size=batch_size, shuffle=True)\n",
    "\n",
    "val_dataset = TensorDataset(X_val_cont, X_val_cat, y_val_log)\n",
    "val_loader = DataLoader(val_dataset, batch_size=batch_size, shuffle=False)\n",
    "\n",
    "holdout_dataset = TensorDataset(X_holdout_cont, X_holdout_cat, y_holdout_log)\n",
    "holdout_loader = DataLoader(holdout_dataset, batch_size=batch_size, shuffle=False)\n"
   ]
  },
  {
   "cell_type": "code",
   "execution_count": 88,
   "metadata": {},
   "outputs": [],
   "source": [
    "import torch.nn as nn\n",
    "import torch.nn.functional as F\n",
    "import torch.optim\n",
    "from rtdl_revisiting_models import FTTransformer\n",
    "import os\n",
    "os.environ['KMP_DUPLICATE_LIB_OK']='True'\n",
    "from tqdm import tqdm"
   ]
  },
  {
   "cell_type": "code",
   "execution_count": 76,
   "metadata": {},
   "outputs": [],
   "source": [
    "d_out = 1 # 회귀니까 1\n",
    "\n",
    "default_kwargs = FTTransformer.get_default_kwargs() # 기본 파라미터\n",
    "model = FTTransformer(\n",
    "    n_cont_features=n_cont_features,\n",
    "    cat_cardinalities=cat_cardinalities,\n",
    "    d_out=d_out,\n",
    "    **default_kwargs,\n",
    "    linformer_kv_compression_ratio=0.2,           # <---\n",
    "    linformer_kv_compression_sharing='headwise',  # <---\n",
    ").to(device)\n",
    "criterion = nn.L1Loss()\n",
    "optimizer = model.make_default_optimizer()\n",
    "\n",
    "# 조기 종료 설정\n",
    "best_val_loss = float('inf')\n",
    "patience = 5  # 조기 종료를 위한 허용 에포크 수\n",
    "counter = 0"
   ]
  },
  {
   "cell_type": "code",
   "execution_count": null,
   "metadata": {},
   "outputs": [],
   "source": [
    "default_kwargs"
   ]
  },
  {
   "cell_type": "code",
   "execution_count": 78,
   "metadata": {},
   "outputs": [
    {
     "name": "stderr",
     "output_type": "stream",
     "text": [
      "100%|██████████| 4528/4528 [08:35<00:00,  8.78it/s]\n",
      "100%|██████████| 1132/1132 [00:17<00:00, 64.91it/s]\n"
     ]
    },
    {
     "name": "stdout",
     "output_type": "stream",
     "text": [
      "Epoch 1/100, Train MAE: 8591.2408, Val MAE: 3987.0062\n"
     ]
    },
    {
     "name": "stderr",
     "output_type": "stream",
     "text": [
      "100%|██████████| 4528/4528 [08:25<00:00,  8.96it/s]\n",
      "100%|██████████| 1132/1132 [00:18<00:00, 59.96it/s]\n"
     ]
    },
    {
     "name": "stdout",
     "output_type": "stream",
     "text": [
      "Epoch 2/100, Train MAE: 3968.8181, Val MAE: 4121.1845\n"
     ]
    },
    {
     "name": "stderr",
     "output_type": "stream",
     "text": [
      "100%|██████████| 4528/4528 [08:19<00:00,  9.07it/s]\n",
      "100%|██████████| 1132/1132 [00:17<00:00, 63.73it/s]\n"
     ]
    },
    {
     "name": "stdout",
     "output_type": "stream",
     "text": [
      "Epoch 3/100, Train MAE: 3830.8165, Val MAE: 3740.5426\n"
     ]
    },
    {
     "name": "stderr",
     "output_type": "stream",
     "text": [
      "100%|██████████| 4528/4528 [08:07<00:00,  9.29it/s]\n",
      "100%|██████████| 1132/1132 [00:17<00:00, 63.92it/s]\n"
     ]
    },
    {
     "name": "stdout",
     "output_type": "stream",
     "text": [
      "Epoch 4/100, Train MAE: 3751.6359, Val MAE: 3695.1294\n"
     ]
    },
    {
     "name": "stderr",
     "output_type": "stream",
     "text": [
      "100%|██████████| 4528/4528 [08:21<00:00,  9.04it/s]\n",
      "100%|██████████| 1132/1132 [00:19<00:00, 59.42it/s]\n"
     ]
    },
    {
     "name": "stdout",
     "output_type": "stream",
     "text": [
      "Epoch 5/100, Train MAE: 3689.4694, Val MAE: 3654.4413\n"
     ]
    },
    {
     "name": "stderr",
     "output_type": "stream",
     "text": [
      "100%|██████████| 4528/4528 [08:42<00:00,  8.67it/s]\n",
      "100%|██████████| 1132/1132 [00:17<00:00, 65.32it/s]\n"
     ]
    },
    {
     "name": "stdout",
     "output_type": "stream",
     "text": [
      "Epoch 6/100, Train MAE: 3634.5933, Val MAE: 3757.1340\n"
     ]
    },
    {
     "name": "stderr",
     "output_type": "stream",
     "text": [
      "100%|██████████| 4528/4528 [07:43<00:00,  9.77it/s]\n",
      "100%|██████████| 1132/1132 [00:05<00:00, 197.95it/s]\n"
     ]
    },
    {
     "name": "stdout",
     "output_type": "stream",
     "text": [
      "Epoch 7/100, Train MAE: 3590.7303, Val MAE: 3626.7578\n"
     ]
    },
    {
     "name": "stderr",
     "output_type": "stream",
     "text": [
      "100%|██████████| 4528/4528 [07:19<00:00, 10.30it/s]\n",
      "100%|██████████| 1132/1132 [00:05<00:00, 190.09it/s]\n"
     ]
    },
    {
     "name": "stdout",
     "output_type": "stream",
     "text": [
      "Epoch 8/100, Train MAE: 3550.2282, Val MAE: 3614.0719\n"
     ]
    },
    {
     "name": "stderr",
     "output_type": "stream",
     "text": [
      "100%|██████████| 4528/4528 [07:22<00:00, 10.24it/s]\n",
      "100%|██████████| 1132/1132 [00:05<00:00, 206.11it/s]\n"
     ]
    },
    {
     "name": "stdout",
     "output_type": "stream",
     "text": [
      "Epoch 9/100, Train MAE: 3518.9325, Val MAE: 3592.7713\n"
     ]
    },
    {
     "name": "stderr",
     "output_type": "stream",
     "text": [
      "100%|██████████| 4528/4528 [07:25<00:00, 10.16it/s]\n",
      "100%|██████████| 1132/1132 [00:05<00:00, 199.87it/s]\n"
     ]
    },
    {
     "name": "stdout",
     "output_type": "stream",
     "text": [
      "Epoch 10/100, Train MAE: 3487.3088, Val MAE: 3571.1790\n"
     ]
    },
    {
     "name": "stderr",
     "output_type": "stream",
     "text": [
      "100%|██████████| 4528/4528 [07:20<00:00, 10.27it/s]\n",
      "100%|██████████| 1132/1132 [00:05<00:00, 201.76it/s]\n"
     ]
    },
    {
     "name": "stdout",
     "output_type": "stream",
     "text": [
      "Epoch 11/100, Train MAE: 3461.5380, Val MAE: 3552.6844\n"
     ]
    },
    {
     "name": "stderr",
     "output_type": "stream",
     "text": [
      "100%|██████████| 4528/4528 [07:20<00:00, 10.28it/s]\n",
      "100%|██████████| 1132/1132 [00:05<00:00, 201.04it/s]\n"
     ]
    },
    {
     "name": "stdout",
     "output_type": "stream",
     "text": [
      "Epoch 12/100, Train MAE: 3441.6213, Val MAE: 3553.7218\n"
     ]
    },
    {
     "name": "stderr",
     "output_type": "stream",
     "text": [
      "100%|██████████| 4528/4528 [07:24<00:00, 10.19it/s]\n",
      "100%|██████████| 1132/1132 [00:05<00:00, 198.05it/s]\n"
     ]
    },
    {
     "name": "stdout",
     "output_type": "stream",
     "text": [
      "Epoch 13/100, Train MAE: 3417.0065, Val MAE: 3559.1922\n"
     ]
    },
    {
     "name": "stderr",
     "output_type": "stream",
     "text": [
      "100%|██████████| 4528/4528 [07:21<00:00, 10.27it/s]\n",
      "100%|██████████| 1132/1132 [00:05<00:00, 206.88it/s]\n"
     ]
    },
    {
     "name": "stdout",
     "output_type": "stream",
     "text": [
      "Epoch 14/100, Train MAE: 3398.0942, Val MAE: 3554.0043\n"
     ]
    },
    {
     "name": "stderr",
     "output_type": "stream",
     "text": [
      "100%|██████████| 4528/4528 [07:27<00:00, 10.13it/s]\n",
      "100%|██████████| 1132/1132 [00:05<00:00, 204.01it/s]\n"
     ]
    },
    {
     "name": "stdout",
     "output_type": "stream",
     "text": [
      "Epoch 15/100, Train MAE: 3379.1422, Val MAE: 3573.7823\n"
     ]
    },
    {
     "name": "stderr",
     "output_type": "stream",
     "text": [
      "100%|██████████| 4528/4528 [07:21<00:00, 10.26it/s]\n",
      "100%|██████████| 1132/1132 [00:05<00:00, 204.80it/s]\n"
     ]
    },
    {
     "name": "stdout",
     "output_type": "stream",
     "text": [
      "Epoch 16/100, Train MAE: 3362.3918, Val MAE: 3738.3988\n"
     ]
    },
    {
     "name": "stderr",
     "output_type": "stream",
     "text": [
      "100%|██████████| 4528/4528 [07:21<00:00, 10.26it/s]\n",
      "100%|██████████| 1132/1132 [00:05<00:00, 199.70it/s]\n"
     ]
    },
    {
     "name": "stdout",
     "output_type": "stream",
     "text": [
      "Epoch 17/100, Train MAE: 3343.0456, Val MAE: 3521.4693\n"
     ]
    },
    {
     "name": "stderr",
     "output_type": "stream",
     "text": [
      "100%|██████████| 4528/4528 [07:25<00:00, 10.16it/s]\n",
      "100%|██████████| 1132/1132 [00:05<00:00, 199.17it/s]\n"
     ]
    },
    {
     "name": "stdout",
     "output_type": "stream",
     "text": [
      "Epoch 18/100, Train MAE: 3329.8284, Val MAE: 3500.2656\n"
     ]
    },
    {
     "name": "stderr",
     "output_type": "stream",
     "text": [
      "100%|██████████| 4528/4528 [07:21<00:00, 10.26it/s]\n",
      "100%|██████████| 1132/1132 [00:05<00:00, 200.89it/s]\n"
     ]
    },
    {
     "name": "stdout",
     "output_type": "stream",
     "text": [
      "Epoch 19/100, Train MAE: 3314.4900, Val MAE: 3502.7082\n"
     ]
    },
    {
     "name": "stderr",
     "output_type": "stream",
     "text": [
      "100%|██████████| 4528/4528 [07:26<00:00, 10.15it/s]\n",
      "100%|██████████| 1132/1132 [00:05<00:00, 198.97it/s]\n"
     ]
    },
    {
     "name": "stdout",
     "output_type": "stream",
     "text": [
      "Epoch 20/100, Train MAE: 3300.6102, Val MAE: 3556.3219\n"
     ]
    },
    {
     "name": "stderr",
     "output_type": "stream",
     "text": [
      "100%|██████████| 4528/4528 [07:21<00:00, 10.26it/s]\n",
      "100%|██████████| 1132/1132 [00:05<00:00, 200.30it/s]\n"
     ]
    },
    {
     "name": "stdout",
     "output_type": "stream",
     "text": [
      "Epoch 21/100, Train MAE: 3285.0104, Val MAE: 3518.4175\n"
     ]
    },
    {
     "name": "stderr",
     "output_type": "stream",
     "text": [
      "100%|██████████| 4528/4528 [07:20<00:00, 10.28it/s]\n",
      "100%|██████████| 1132/1132 [00:05<00:00, 204.38it/s]\n"
     ]
    },
    {
     "name": "stdout",
     "output_type": "stream",
     "text": [
      "Epoch 22/100, Train MAE: 3271.4907, Val MAE: 3542.1782\n"
     ]
    },
    {
     "name": "stderr",
     "output_type": "stream",
     "text": [
      "100%|██████████| 4528/4528 [07:24<00:00, 10.19it/s]\n",
      "100%|██████████| 1132/1132 [00:05<00:00, 203.10it/s]\n"
     ]
    },
    {
     "name": "stdout",
     "output_type": "stream",
     "text": [
      "Epoch 23/100, Train MAE: 3259.5197, Val MAE: 3486.3028\n"
     ]
    },
    {
     "name": "stderr",
     "output_type": "stream",
     "text": [
      "100%|██████████| 4528/4528 [07:20<00:00, 10.27it/s]\n",
      "100%|██████████| 1132/1132 [00:05<00:00, 206.65it/s]\n"
     ]
    },
    {
     "name": "stdout",
     "output_type": "stream",
     "text": [
      "Epoch 24/100, Train MAE: 3245.7795, Val MAE: 3566.5357\n"
     ]
    },
    {
     "name": "stderr",
     "output_type": "stream",
     "text": [
      "100%|██████████| 4528/4528 [07:26<00:00, 10.14it/s]\n",
      "100%|██████████| 1132/1132 [00:05<00:00, 199.53it/s]\n"
     ]
    },
    {
     "name": "stdout",
     "output_type": "stream",
     "text": [
      "Epoch 25/100, Train MAE: 3231.0528, Val MAE: 3500.9708\n"
     ]
    },
    {
     "name": "stderr",
     "output_type": "stream",
     "text": [
      "100%|██████████| 4528/4528 [07:21<00:00, 10.26it/s]\n",
      "100%|██████████| 1132/1132 [00:05<00:00, 201.57it/s]\n"
     ]
    },
    {
     "name": "stdout",
     "output_type": "stream",
     "text": [
      "Epoch 26/100, Train MAE: 3218.5967, Val MAE: 3498.0157\n"
     ]
    },
    {
     "name": "stderr",
     "output_type": "stream",
     "text": [
      "100%|██████████| 4528/4528 [07:20<00:00, 10.29it/s]\n",
      "100%|██████████| 1132/1132 [00:05<00:00, 199.57it/s]\n"
     ]
    },
    {
     "name": "stdout",
     "output_type": "stream",
     "text": [
      "Epoch 27/100, Train MAE: 3209.6993, Val MAE: 3482.9600\n"
     ]
    },
    {
     "name": "stderr",
     "output_type": "stream",
     "text": [
      "100%|██████████| 4528/4528 [07:24<00:00, 10.19it/s]\n",
      "100%|██████████| 1132/1132 [00:05<00:00, 200.75it/s]\n"
     ]
    },
    {
     "name": "stdout",
     "output_type": "stream",
     "text": [
      "Epoch 28/100, Train MAE: 3198.2153, Val MAE: 3556.4084\n"
     ]
    },
    {
     "name": "stderr",
     "output_type": "stream",
     "text": [
      "100%|██████████| 4528/4528 [07:20<00:00, 10.28it/s]\n",
      "100%|██████████| 1132/1132 [00:05<00:00, 205.24it/s]\n"
     ]
    },
    {
     "name": "stdout",
     "output_type": "stream",
     "text": [
      "Epoch 29/100, Train MAE: 3188.0424, Val MAE: 3480.4861\n"
     ]
    },
    {
     "name": "stderr",
     "output_type": "stream",
     "text": [
      "100%|██████████| 4528/4528 [07:26<00:00, 10.15it/s]\n",
      "100%|██████████| 1132/1132 [00:05<00:00, 204.28it/s]\n"
     ]
    },
    {
     "name": "stdout",
     "output_type": "stream",
     "text": [
      "Epoch 30/100, Train MAE: 3172.9776, Val MAE: 3514.2392\n"
     ]
    },
    {
     "name": "stderr",
     "output_type": "stream",
     "text": [
      "100%|██████████| 4528/4528 [07:21<00:00, 10.26it/s]\n",
      "100%|██████████| 1132/1132 [00:05<00:00, 204.16it/s]\n"
     ]
    },
    {
     "name": "stdout",
     "output_type": "stream",
     "text": [
      "Epoch 31/100, Train MAE: 3162.8466, Val MAE: 3485.0099\n"
     ]
    },
    {
     "name": "stderr",
     "output_type": "stream",
     "text": [
      "100%|██████████| 4528/4528 [07:20<00:00, 10.27it/s]\n",
      "100%|██████████| 1132/1132 [00:05<00:00, 200.56it/s]\n"
     ]
    },
    {
     "name": "stdout",
     "output_type": "stream",
     "text": [
      "Epoch 32/100, Train MAE: 3151.2133, Val MAE: 3492.9462\n"
     ]
    },
    {
     "name": "stderr",
     "output_type": "stream",
     "text": [
      "100%|██████████| 4528/4528 [07:24<00:00, 10.18it/s]\n",
      "100%|██████████| 1132/1132 [00:05<00:00, 200.55it/s]\n"
     ]
    },
    {
     "name": "stdout",
     "output_type": "stream",
     "text": [
      "Epoch 33/100, Train MAE: 3141.9436, Val MAE: 3491.7979\n"
     ]
    },
    {
     "name": "stderr",
     "output_type": "stream",
     "text": [
      "100%|██████████| 4528/4528 [07:21<00:00, 10.26it/s]\n",
      "100%|██████████| 1132/1132 [00:05<00:00, 202.57it/s]\n"
     ]
    },
    {
     "name": "stdout",
     "output_type": "stream",
     "text": [
      "Epoch 34/100, Train MAE: 3134.2574, Val MAE: 3492.1865\n"
     ]
    },
    {
     "name": "stderr",
     "output_type": "stream",
     "text": [
      "100%|██████████| 4528/4528 [07:27<00:00, 10.12it/s]\n",
      "100%|██████████| 1132/1132 [00:05<00:00, 201.07it/s]\n"
     ]
    },
    {
     "name": "stdout",
     "output_type": "stream",
     "text": [
      "Epoch 35/100, Train MAE: 3121.6563, Val MAE: 3500.4800\n"
     ]
    },
    {
     "name": "stderr",
     "output_type": "stream",
     "text": [
      "100%|██████████| 4528/4528 [07:21<00:00, 10.26it/s]\n",
      "100%|██████████| 1132/1132 [00:05<00:00, 200.91it/s]\n"
     ]
    },
    {
     "name": "stdout",
     "output_type": "stream",
     "text": [
      "Epoch 36/100, Train MAE: 3112.9787, Val MAE: 3525.5749\n"
     ]
    },
    {
     "name": "stderr",
     "output_type": "stream",
     "text": [
      "100%|██████████| 4528/4528 [07:20<00:00, 10.27it/s]\n",
      "100%|██████████| 1132/1132 [00:05<00:00, 205.95it/s]\n"
     ]
    },
    {
     "name": "stdout",
     "output_type": "stream",
     "text": [
      "Epoch 37/100, Train MAE: 3103.6492, Val MAE: 3478.3637\n"
     ]
    },
    {
     "name": "stderr",
     "output_type": "stream",
     "text": [
      "100%|██████████| 4528/4528 [07:25<00:00, 10.16it/s]\n",
      "100%|██████████| 1132/1132 [00:05<00:00, 204.32it/s]\n"
     ]
    },
    {
     "name": "stdout",
     "output_type": "stream",
     "text": [
      "Epoch 38/100, Train MAE: 3095.1371, Val MAE: 3479.1295\n"
     ]
    },
    {
     "name": "stderr",
     "output_type": "stream",
     "text": [
      "100%|██████████| 4528/4528 [07:21<00:00, 10.26it/s]\n",
      "100%|██████████| 1132/1132 [00:05<00:00, 204.88it/s]\n"
     ]
    },
    {
     "name": "stdout",
     "output_type": "stream",
     "text": [
      "Epoch 39/100, Train MAE: 3083.8989, Val MAE: 3471.4271\n"
     ]
    },
    {
     "name": "stderr",
     "output_type": "stream",
     "text": [
      "100%|██████████| 4528/4528 [07:34<00:00,  9.96it/s]\n",
      "100%|██████████| 1132/1132 [00:05<00:00, 190.81it/s]\n"
     ]
    },
    {
     "name": "stdout",
     "output_type": "stream",
     "text": [
      "Epoch 40/100, Train MAE: 3077.1377, Val MAE: 3489.3214\n"
     ]
    },
    {
     "name": "stderr",
     "output_type": "stream",
     "text": [
      "100%|██████████| 4528/4528 [07:36<00:00,  9.91it/s]\n",
      "100%|██████████| 1132/1132 [00:05<00:00, 196.86it/s]\n"
     ]
    },
    {
     "name": "stdout",
     "output_type": "stream",
     "text": [
      "Epoch 41/100, Train MAE: 3066.3506, Val MAE: 3504.4543\n"
     ]
    },
    {
     "name": "stderr",
     "output_type": "stream",
     "text": [
      "100%|██████████| 4528/4528 [07:29<00:00, 10.07it/s]\n",
      "100%|██████████| 1132/1132 [00:05<00:00, 192.49it/s]\n"
     ]
    },
    {
     "name": "stdout",
     "output_type": "stream",
     "text": [
      "Epoch 42/100, Train MAE: 3057.4880, Val MAE: 3515.5599\n"
     ]
    },
    {
     "name": "stderr",
     "output_type": "stream",
     "text": [
      "100%|██████████| 4528/4528 [03:05<00:00, 24.43it/s] \n",
      "100%|██████████| 1132/1132 [00:04<00:00, 270.49it/s]\n"
     ]
    },
    {
     "name": "stdout",
     "output_type": "stream",
     "text": [
      "Epoch 43/100, Train MAE: 3047.6253, Val MAE: 3467.7105\n"
     ]
    },
    {
     "name": "stderr",
     "output_type": "stream",
     "text": [
      "100%|██████████| 4528/4528 [00:41<00:00, 109.28it/s]\n",
      "100%|██████████| 1132/1132 [00:03<00:00, 296.08it/s]\n"
     ]
    },
    {
     "name": "stdout",
     "output_type": "stream",
     "text": [
      "Epoch 44/100, Train MAE: 3041.0576, Val MAE: 3520.9647\n"
     ]
    },
    {
     "name": "stderr",
     "output_type": "stream",
     "text": [
      "100%|██████████| 4528/4528 [00:40<00:00, 111.60it/s]\n",
      "100%|██████████| 1132/1132 [00:03<00:00, 289.85it/s]\n"
     ]
    },
    {
     "name": "stdout",
     "output_type": "stream",
     "text": [
      "Epoch 45/100, Train MAE: 3034.4234, Val MAE: 3480.4981\n"
     ]
    },
    {
     "name": "stderr",
     "output_type": "stream",
     "text": [
      "100%|██████████| 4528/4528 [00:39<00:00, 114.83it/s]\n",
      "100%|██████████| 1132/1132 [00:03<00:00, 296.39it/s]\n"
     ]
    },
    {
     "name": "stdout",
     "output_type": "stream",
     "text": [
      "Epoch 46/100, Train MAE: 3024.7277, Val MAE: 3475.1787\n"
     ]
    },
    {
     "name": "stderr",
     "output_type": "stream",
     "text": [
      "100%|██████████| 4528/4528 [00:40<00:00, 112.14it/s]\n",
      "100%|██████████| 1132/1132 [00:03<00:00, 287.57it/s]\n"
     ]
    },
    {
     "name": "stdout",
     "output_type": "stream",
     "text": [
      "Epoch 47/100, Train MAE: 3016.4709, Val MAE: 3516.5689\n"
     ]
    },
    {
     "name": "stderr",
     "output_type": "stream",
     "text": [
      "100%|██████████| 4528/4528 [00:43<00:00, 104.53it/s]\n",
      "100%|██████████| 1132/1132 [00:03<00:00, 283.82it/s]\n"
     ]
    },
    {
     "name": "stdout",
     "output_type": "stream",
     "text": [
      "Epoch 48/100, Train MAE: 3010.7208, Val MAE: 3489.0993\n"
     ]
    },
    {
     "name": "stderr",
     "output_type": "stream",
     "text": [
      "100%|██████████| 4528/4528 [00:39<00:00, 114.77it/s]\n",
      "100%|██████████| 1132/1132 [00:03<00:00, 287.66it/s]\n"
     ]
    },
    {
     "name": "stdout",
     "output_type": "stream",
     "text": [
      "Epoch 49/100, Train MAE: 3001.8419, Val MAE: 3493.3338\n"
     ]
    },
    {
     "name": "stderr",
     "output_type": "stream",
     "text": [
      "100%|██████████| 4528/4528 [00:41<00:00, 109.57it/s]\n",
      "100%|██████████| 1132/1132 [00:04<00:00, 276.23it/s]\n"
     ]
    },
    {
     "name": "stdout",
     "output_type": "stream",
     "text": [
      "Epoch 50/100, Train MAE: 2994.0899, Val MAE: 3482.2368\n"
     ]
    },
    {
     "name": "stderr",
     "output_type": "stream",
     "text": [
      "100%|██████████| 4528/4528 [00:46<00:00, 97.31it/s] \n",
      "100%|██████████| 1132/1132 [00:04<00:00, 270.93it/s]\n"
     ]
    },
    {
     "name": "stdout",
     "output_type": "stream",
     "text": [
      "Epoch 51/100, Train MAE: 2989.5795, Val MAE: 3501.8134\n"
     ]
    },
    {
     "name": "stderr",
     "output_type": "stream",
     "text": [
      "100%|██████████| 4528/4528 [00:46<00:00, 98.18it/s] \n",
      "100%|██████████| 1132/1132 [00:04<00:00, 260.72it/s]\n"
     ]
    },
    {
     "name": "stdout",
     "output_type": "stream",
     "text": [
      "Epoch 52/100, Train MAE: 2982.5503, Val MAE: 3503.8971\n"
     ]
    },
    {
     "name": "stderr",
     "output_type": "stream",
     "text": [
      "100%|██████████| 4528/4528 [00:45<00:00, 98.61it/s] \n",
      "100%|██████████| 1132/1132 [00:04<00:00, 277.11it/s]"
     ]
    },
    {
     "name": "stdout",
     "output_type": "stream",
     "text": [
      "Epoch 53/100, Train MAE: 2973.3956, Val MAE: 3501.3634\n",
      "Early stopping triggered.\n"
     ]
    },
    {
     "name": "stderr",
     "output_type": "stream",
     "text": [
      "\n"
     ]
    }
   ],
   "source": [
    "# 학습\n",
    "num_epochs = 100\n",
    "for epoch in range(num_epochs):\n",
    "    model.train()\n",
    "    train_loss_epoch = 0  # 에포크별 손실을 누적할 변수\n",
    "    \n",
    "    # 배치 단위로 학습\n",
    "    for batch_data_cont, batch_data_cat, batch_target in tqdm(train_loader):\n",
    "        optimizer.zero_grad()\n",
    "        \n",
    "        # Forward pass\n",
    "        predictions = model(batch_data_cont, batch_data_cat).view(-1)  # 1D로 변환\n",
    "        train_loss = criterion(predictions, batch_target)\n",
    "\n",
    "        # Backward pass\n",
    "        train_loss.backward()\n",
    "        optimizer.step()\n",
    "        \n",
    "        train_loss = criterion(torch.expm1(predictions), torch.expm1(batch_target))\n",
    "        train_loss_epoch += train_loss.item()\n",
    "    \n",
    "    train_loss_epoch /= len(train_loader)  # 배치 평균 손실 계산\n",
    "    \n",
    "    # 검증\n",
    "    model.eval()\n",
    "    val_loss_epoch = 0\n",
    "    with torch.no_grad():\n",
    "        for batch_data_cont, batch_data_cat, batch_target in tqdm(val_loader):\n",
    "            val_predictions = model(batch_data_cont, batch_data_cat).view(-1)  # 1D로 변환\n",
    "            val_loss = criterion(torch.expm1(val_predictions), torch.expm1(batch_target))\n",
    "            val_loss_epoch += val_loss.item()\n",
    "    \n",
    "    val_loss_epoch /= len(val_loader)  # 배치 평균 손실 계산\n",
    "\n",
    "    print(f'Epoch {epoch+1}/{num_epochs}, Train MAE: {train_loss_epoch:.4f}, Val MAE: {val_loss_epoch:.4f}')\n",
    "\n",
    "    # 조기 종료 조건 확인\n",
    "    if val_loss_epoch < best_val_loss:\n",
    "        best_val_loss = val_loss_epoch\n",
    "        counter = 0  # 카운터 초기화\n",
    "    else:\n",
    "        counter += 1\n",
    "\n",
    "    if counter >= patience:\n",
    "        print(\"Early stopping triggered.\")\n",
    "        break"
   ]
  },
  {
   "cell_type": "code",
   "execution_count": 91,
   "metadata": {},
   "outputs": [
    {
     "name": "stderr",
     "output_type": "stream",
     "text": [
      "100%|██████████| 759/759 [00:02<00:00, 293.79it/s]"
     ]
    },
    {
     "name": "stdout",
     "output_type": "stream",
     "text": [
      "Holdout MAE: 4353.9126\n"
     ]
    },
    {
     "name": "stderr",
     "output_type": "stream",
     "text": [
      "\n"
     ]
    }
   ],
   "source": [
    "# holdout 데이터로 MAE 측정\n",
    "model.eval()\n",
    "test_mae = 0\n",
    "with torch.no_grad():\n",
    "    test_predictions_list = []\n",
    "    test_target_list = []\n",
    "    for batch_data_cont, batch_data_cat, batch_target in tqdm(holdout_loader):\n",
    "        test_predictions = model(batch_data_cont, batch_data_cat).view(-1)  # 1D로 변환\n",
    "        test_predictions_list.append(test_predictions)\n",
    "        test_target_list.append(batch_target)\n",
    "    \n",
    "    # holdout 데이터에서 MAE 측정\n",
    "    test_predictions_all = torch.cat(test_predictions_list).cpu().numpy()\n",
    "    test_target_all = torch.cat(test_target_list).cpu().numpy()\n",
    "    test_mae = mean_absolute_error(np.expm1(test_target_all), np.expm1(test_predictions_all))\n",
    "\n",
    "print(f'Holdout MAE: {test_mae:.4f}')"
   ]
  },
  {
   "cell_type": "markdown",
   "metadata": {},
   "source": [
    "# 하이퍼 파라미터 튜닝"
   ]
  },
  {
   "cell_type": "markdown",
   "metadata": {},
   "source": [
    " (학습속도가 너무 느려서 엄두도 안남)"
   ]
  },
  {
   "cell_type": "code",
   "execution_count": null,
   "metadata": {},
   "outputs": [],
   "source": [
    "model = FTTransformer(\n",
    "    n_cont_features=n_cont_features,\n",
    "    cat_cardinalities=cat_cardinalities,\n",
    "    d_out=d_out,\n",
    "    n_blocks=3,\n",
    "    d_block=192,\n",
    "    attention_n_heads=8,\n",
    "    attention_dropout=0.2,\n",
    "    ffn_d_hidden=None,\n",
    "    ffn_d_hidden_multiplier=4 / 3,\n",
    "    ffn_dropout=0.1,\n",
    "    residual_dropout=0.0,\n",
    ")"
   ]
  },
  {
   "cell_type": "code",
   "execution_count": null,
   "metadata": {},
   "outputs": [],
   "source": [
    "# Optuna 시각화\n",
    "optuna.visualization.plot_optimization_history(study)\n",
    "plt.show()\n",
    "optuna.visualization.plot_param_importances(study)\n",
    "plt.show()"
   ]
  },
  {
   "cell_type": "markdown",
   "metadata": {},
   "source": [
    "# holdout 검증"
   ]
  },
  {
   "cell_type": "code",
   "execution_count": null,
   "metadata": {},
   "outputs": [],
   "source": [
    "# holdout 데이터로 MAE 측정\n",
    "model.eval()\n",
    "test_mae = 0\n",
    "with torch.no_grad():\n",
    "    test_predictions_list = []\n",
    "    test_target_list = []\n",
    "    for batch_data_cont, batch_data_cat, batch_target in tqdm(holdout_loader):\n",
    "        test_predictions = model(batch_data_cont, batch_data_cat).view(-1)  # 1D로 변환\n",
    "        test_predictions_list.append(test_predictions)\n",
    "        test_target_list.append(batch_target)\n",
    "    \n",
    "    # holdout 데이터에서 MAE 측정\n",
    "    test_predictions_all = torch.cat(test_predictions_list).cpu().numpy()\n",
    "    test_target_all = torch.cat(test_target_list).cpu().numpy()\n",
    "    test_mae = mean_absolute_error(torch.expm1(test_target_all), torch.expm1(test_predictions_all))\n",
    "\n",
    "print(f'Test MAE: {test_mae:.4f}')\n"
   ]
  },
  {
   "cell_type": "markdown",
   "metadata": {},
   "source": [
    "# 재학습 후 output 생성 (제출용)"
   ]
  },
  {
   "cell_type": "code",
   "execution_count": null,
   "metadata": {},
   "outputs": [],
   "source": [
    "# train, test split\n",
    "train_data = df[df[\"_type\"] == \"train\"]\n",
    "test_data = df[df[\"_type\"] == \"test\"]\n",
    "\n",
    "X_train_full = train_data.drop('deposit', axis=1)\n",
    "y_train_full = train_data['deposit']\n",
    "X_holdout = holdout_data.drop('deposit', axis=1)\n",
    "y_holdout = holdout_data['deposit']\n",
    "X_test = test.copy()\n",
    "\n",
    "# 학습 데이터와 검증 데이터 분리\n",
    "X_train, X_val, y_train, y_val = train_test_split(\n",
    "    X_train_full,\n",
    "    y_train_full,\n",
    "    test_size=0.2,\n",
    "    random_state=RANDOM_SEED\n",
    ")"
   ]
  },
  {
   "cell_type": "code",
   "execution_count": null,
   "metadata": {},
   "outputs": [],
   "source": [
    "from sklearn.preprocessing import StandardScaler, PowerTransformer, RobustScaler\n",
    "pt = PowerTransformer(method='yeo-johnson')\n",
    "pt = RobustScaler()\n",
    "\n",
    "X_train_cont = torch.Tensor(pt.fit_transform(X_train[continuous_columns])).to(device)\n",
    "X_val_cont = torch.Tensor(pt.transform(X_val[continuous_columns])).to(device)\n",
    "X_test_cont = torch.Tensor(pt.transform(X_test[continuous_columns])).to(device)\n",
    "\n",
    "X_train_cat = torch.Tensor(X_train[categorical_columns].values).long().to(device)\n",
    "X_val_cat = torch.Tensor(X_val[categorical_columns].values).long().to(device)\n",
    "X_test_cat = torch.Tensor(X_test[categorical_columns].values).long().to(device)\n",
    "\n",
    "y_train_log = torch.Tensor(np.log1p(y_train).values).to(device)\n",
    "y_val_log = torch.Tensor(np.log1p(y_val).values).to(device)"
   ]
  },
  {
   "cell_type": "code",
   "execution_count": null,
   "metadata": {},
   "outputs": [],
   "source": [
    "train_dataset = TensorDataset(X_train_cont, X_train_cat, y_train_log)\n",
    "train_loader = DataLoader(train_dataset, batch_size=batch_size, shuffle=True)\n",
    "\n",
    "val_dataset = TensorDataset(X_val_cont, X_val_cat, y_val_log)\n",
    "val_loader = DataLoader(val_dataset, batch_size=batch_size, shuffle=False)\n",
    "\n",
    "test_dataset = TensorDataset(X_test_cont, X_test_cat)\n",
    "test_loader = DataLoader(test_dataset, batch_size=batch_size, shuffle=False)"
   ]
  },
  {
   "cell_type": "code",
   "execution_count": null,
   "metadata": {},
   "outputs": [],
   "source": [
    "# # 최적의 모델로\n",
    "# best_params = trial.params\n",
    "# learning_rate = best_params[\"learning_rate\"]\n",
    "# batch_size = best_params[\"batch_size\"]\n",
    "# num_heads = best_params[\"num_heads\"]\n",
    "# num_attn_blocks = best_params[\"num_attn_blocks\"]\n",
    "# dropout = best_params[\"dropout\"]"
   ]
  },
  {
   "cell_type": "code",
   "execution_count": null,
   "metadata": {},
   "outputs": [],
   "source": [
    "d_out = 1 # 회귀니까 1\n",
    "\n",
    "default_kwargs = FTTransformer.get_default_kwargs() # 기본 파라미터\n",
    "model = FTTransformer(\n",
    "    n_cont_features=n_cont_features,\n",
    "    cat_cardinalities=cat_cardinalities,\n",
    "    d_out=d_out,\n",
    "    **default_kwargs,\n",
    ").to(device)\n",
    "criterion = nn.L1Loss()\n",
    "optimizer = model.make_default_optimizer()\n",
    "\n",
    "# 조기 종료 설정\n",
    "best_val_loss = float('inf')\n",
    "patience = 5  # 조기 종료를 위한 허용 에포크 수\n",
    "counter = 0"
   ]
  },
  {
   "cell_type": "code",
   "execution_count": null,
   "metadata": {},
   "outputs": [],
   "source": [
    "# 학습\n",
    "num_epochs = 100\n",
    "for epoch in range(num_epochs):\n",
    "    model.train()\n",
    "    train_loss_epoch = 0  # 에포크별 손실을 누적할 변수\n",
    "    \n",
    "    # 배치 단위로 학습\n",
    "    for batch_data_cont, batch_data_cat, batch_target in tqdm(train_loader):\n",
    "        optimizer.zero_grad()\n",
    "        \n",
    "        # Forward pass\n",
    "        predictions = model(batch_data_cont, batch_data_cat).view(-1)  # 1D로 변환\n",
    "        train_loss = criterion(predictions, batch_target)\n",
    "\n",
    "        # Backward pass\n",
    "        train_loss.backward()\n",
    "        optimizer.step()\n",
    "        \n",
    "        train_loss = criterion(torch.expm1(predictions), torch.expm1(batch_target))\n",
    "        train_loss_epoch += train_loss.item()\n",
    "    \n",
    "    train_loss_epoch /= len(train_loader)  # 배치 평균 손실 계산\n",
    "    \n",
    "    # 검증\n",
    "    model.eval()\n",
    "    val_loss_epoch = 0\n",
    "    with torch.no_grad():\n",
    "        for batch_data_cont, batch_data_cat, batch_target in tqdm(val_loader):\n",
    "            val_predictions = model(batch_data_cont, batch_data_cat).view(-1)  # 1D로 변환\n",
    "            val_loss = criterion(torch.expm1(val_predictions), torch.expm1(batch_target))\n",
    "            val_loss_epoch += val_loss.item()\n",
    "    \n",
    "    val_loss_epoch /= len(val_loader)  # 배치 평균 손실 계산\n",
    "\n",
    "    print(f'Epoch {epoch+1}/{num_epochs}, Train MAE: {train_loss_epoch:.4f}, Val MAE: {val_loss_epoch:.4f}')\n",
    "\n",
    "    # 조기 종료 조건 확인\n",
    "    if val_loss_epoch < best_val_loss:\n",
    "        best_val_loss = val_loss_epoch\n",
    "        counter = 0  # 카운터 초기화\n",
    "    else:\n",
    "        counter += 1\n",
    "\n",
    "    if counter >= patience:\n",
    "        print(\"Early stopping triggered.\")\n",
    "        break"
   ]
  },
  {
   "cell_type": "code",
   "execution_count": null,
   "metadata": {},
   "outputs": [],
   "source": [
    "# test 데이터 생성\n",
    "model.eval()\n",
    "test_mae = 0\n",
    "with torch.no_grad():\n",
    "    test_predictions_list = []\n",
    "    for batch_data_cont, batch_data_cat in tqdm(test_loader):\n",
    "        test_predictions = model(batch_data_cont, batch_data_cat).view(-1)  # 1D로 변환\n",
    "        test_predictions_list.append(test_predictions)\n",
    "        test_target_list.append(batch_target)\n",
    "\n",
    "    test_predictions_all = torch.cat(test_predictions_list).cpu().numpy()\n"
   ]
  },
  {
   "cell_type": "code",
   "execution_count": null,
   "metadata": {},
   "outputs": [],
   "source": [
    "# 제출용 csv 생성\n",
    "# y_test_pred = tabular_model.predict(pd.concat([X_test, pd.DataFrame({'deposit': np.nan}, index=X_holdout.index)], axis=1))\n",
    "sample_submission[\"deposit\"] = test_predictions_all\n",
    "sample_submission.to_csv(\"output2.csv\", index= False)"
   ]
  }
 ],
 "metadata": {
  "kernelspec": {
   "display_name": "project2",
   "language": "python",
   "name": "python3"
  },
  "language_info": {
   "codemirror_mode": {
    "name": "ipython",
    "version": 3
   },
   "file_extension": ".py",
   "mimetype": "text/x-python",
   "name": "python",
   "nbconvert_exporter": "python",
   "pygments_lexer": "ipython3",
   "version": "3.11.9"
  }
 },
 "nbformat": 4,
 "nbformat_minor": 2
}
