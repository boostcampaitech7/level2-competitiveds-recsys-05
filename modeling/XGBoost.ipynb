{
 "cells": [
  {
   "cell_type": "markdown",
   "metadata": {},
   "source": [
    "# 데이터 불러오기"
   ]
  },
  {
   "cell_type": "code",
   "execution_count": 1,
   "metadata": {},
   "outputs": [],
   "source": [
    "import pandas as pd\n",
    "import numpy as np\n",
    "from sklearn.metrics import root_mean_squared_error, mean_absolute_error\n",
    "from sklearn.model_selection import train_test_split\n",
    "import xgboost as xgb\n",
    "import optuna\n",
    "\n",
    "RANDOM_SEED = 42\n",
    "np.random.seed(RANDOM_SEED)\n",
    "\n",
    "# 파일 경로 설정\n",
    "file_path = '../data/'\n",
    "\n",
    "# 파일 불러오기\n",
    "df = pd.read_csv(file_path + '123.csv')\n",
    "sample_submission = pd.read_csv(file_path + 'sample_submission.csv')"
   ]
  },
  {
   "cell_type": "code",
   "execution_count": 2,
   "metadata": {},
   "outputs": [],
   "source": [
    "# train, test split\n",
    "train = df[df[\"_type\"] == \"train\"]\n",
    "test = df[df[\"_type\"] == \"test\"]"
   ]
  },
  {
   "cell_type": "code",
   "execution_count": 3,
   "metadata": {},
   "outputs": [],
   "source": [
    "holdout_start = 202307\n",
    "holdout_end = 202312\n",
    "holdout_data = train[(train['contract_year_month'] >= holdout_start) & (train['contract_year_month'] <= holdout_end)]\n",
    "train_data = train[~(train['contract_year_month'] >= holdout_start) & (train['contract_year_month'] <= holdout_end)]\n",
    "\n",
    "# drop 수정 필요\n",
    "X_train_full = train_data.drop(['deposit', '_type'], axis=1)\n",
    "y_train_full = train_data['deposit']\n",
    "X_holdout = holdout_data.drop(['deposit', '_type'], axis=1)\n",
    "y_holdout = holdout_data['deposit']\n",
    "X_test = test.drop(['deposit', '_type'], axis=1)\n",
    "\n",
    "# 학습 데이터와 검증 데이터 분리\n",
    "X_train, X_val, y_train, y_val = train_test_split(\n",
    "    X_train_full,\n",
    "    y_train_full,\n",
    "    test_size=0.2,\n",
    "    random_state=RANDOM_SEED\n",
    ")"
   ]
  },
  {
   "cell_type": "markdown",
   "metadata": {},
   "source": [
    "# 모델링"
   ]
  },
  {
   "cell_type": "code",
   "execution_count": 4,
   "metadata": {},
   "outputs": [
    {
     "name": "stderr",
     "output_type": "stream",
     "text": [
      "[I 2024-10-21 18:56:36,813] A new study created in memory with name: no-name-64a8da87-4455-4899-bb6c-031fca886c49\n",
      "[I 2024-10-21 18:58:57,896] Trial 0 finished with value: 583.3833204853604 and parameters: {'booster': 'gbtree', 'tree_method': 'approx', 'learning_rate': 0.1, 'max_depth': 6, 'max_leaves': 136, 'subsample': 0.7595249871194845, 'colsample_bytree': 0.519064670095696, 'num_boost_round': 351}. Best is trial 0 with value: 583.3833204853604.\n",
      "[I 2024-10-21 19:00:17,468] Trial 1 finished with value: 3233.4565778932383 and parameters: {'booster': 'gbtree', 'tree_method': 'exact', 'learning_rate': 0.05, 'max_depth': 5, 'max_leaves': 191, 'subsample': 0.8933846173578942, 'colsample_bytree': 0.5797072813399952, 'num_boost_round': 106}. Best is trial 0 with value: 583.3833204853604.\n"
     ]
    }
   ],
   "source": [
    "def objective(trial):\n",
    "    params = {\n",
    "        'booster': trial.suggest_categorical('booster', ['gbtree', 'dart']),\n",
    "        'tree_method': trial.suggest_categorical('tree_method', ['auto', 'exact', 'approx', 'hist']),\n",
    "        'learning_rate': trial.suggest_categorical('learning_rate', [0.01, 0.05, 0.1, 0.2]),\n",
    "        'max_depth': trial.suggest_int('max_depth', 3, 10),\n",
    "        'max_leaves': trial.suggest_int('max_leaves', 0, 255),\n",
    "        'subsample': trial.suggest_float('subsample', 0.5, 1.0),\n",
    "        'colsample_bytree': trial.suggest_float('colsample_bytree', 0.5, 1.0),\n",
    "        'eval_metric': 'mae',\n",
    "        'random_state': RANDOM_SEED\n",
    "    }\n",
    "\n",
    "    # DMatrix 객체로 변환\n",
    "    dtrain = xgb.DMatrix(X_train, label=y_train)\n",
    "    dval = xgb.DMatrix(X_val, label=y_val)\n",
    "    dholdout = xgb.DMatrix(X_holdout, label=y_holdout)\n",
    "\n",
    "    model = xgb.train(\n",
    "        params,\n",
    "        dtrain,\n",
    "        num_boost_round=trial.suggest_int('num_boost_round', 50, 500),\n",
    "        evals=[(dtrain, 'train'), (dval, 'val')],\n",
    "        early_stopping_rounds=50,\n",
    "        verbose_eval=False\n",
    "    )\n",
    "    \n",
    "    holdout_pred = model.predict(dholdout)\n",
    "    \n",
    "    holdout_mae = mean_absolute_error(y_holdout, holdout_pred)\n",
    "    holdout_rmse = root_mean_squared_error(y_holdout, holdout_pred)\n",
    "\n",
    "    trial.set_user_attr(\"rmse\", holdout_rmse)\n",
    "    \n",
    "    return holdout_mae\n",
    "\n",
    "\n",
    "study = optuna.create_study(direction='minimize')\n",
    "study.optimize(objective, n_trials=100)"
   ]
  },
  {
   "cell_type": "markdown",
   "metadata": {},
   "source": [
    "# holdout 검증"
   ]
  },
  {
   "cell_type": "code",
   "execution_count": 5,
   "metadata": {},
   "outputs": [
    {
     "name": "stdout",
     "output_type": "stream",
     "text": [
      "Best trial:\n",
      "MAE: 583.3833204853604\n",
      "RMSE: 2417.49459869851\n",
      "Best hyperparameters:  {'booster': 'gbtree', 'tree_method': 'approx', 'learning_rate': 0.1, 'max_depth': 6, 'max_leaves': 136, 'subsample': 0.7595249871194845, 'colsample_bytree': 0.519064670095696, 'num_boost_round': 351}\n"
     ]
    }
   ],
   "source": [
    "print(\"Best trial:\")\n",
    "trial = study.best_trial\n",
    "\n",
    "print(f\"MAE: {trial.value}\")\n",
    "print(f\"RMSE: {trial.user_attrs['rmse']}\")\n",
    "print(\"Best hyperparameters: \", trial.params)"
   ]
  },
  {
   "cell_type": "markdown",
   "metadata": {},
   "source": [
    "# 재학습 후 output 생성 (제출용)"
   ]
  },
  {
   "cell_type": "code",
   "execution_count": 6,
   "metadata": {},
   "outputs": [
    {
     "name": "stderr",
     "output_type": "stream",
     "text": [
      "/data/ephemeral/home/level2-competitiveds-recsys-05/.venv/lib/python3.11/site-packages/xgboost/core.py:158: UserWarning: [19:00:17] WARNING: /workspace/src/learner.cc:740: \n",
      "Parameters: { \"num_boost_round\" } are not used.\n",
      "\n",
      "  warnings.warn(smsg, UserWarning)\n"
     ]
    },
    {
     "name": "stdout",
     "output_type": "stream",
     "text": [
      " MAE: 957.66\n",
      " RMSE: 1915.35\n"
     ]
    }
   ],
   "source": [
    "# 재학습\n",
    "best_params = trial.params\n",
    "best_model = xgb.XGBRegressor(**best_params)\n",
    "\n",
    "best_model.fit(X_train_full, y_train_full)\n",
    "\n",
    "y_pred = best_model.predict(X_train_full)\n",
    "y_test_pred = best_model.predict(X_test)\n",
    "\n",
    "mae = mean_absolute_error(y_train_full, y_pred)\n",
    "rmse = root_mean_squared_error(y_train_full, y_pred)\n",
    "\n",
    "print(f\" MAE: {mae:.2f}\")\n",
    "print(f\" RMSE: {rmse:.2f}\")"
   ]
  },
  {
   "cell_type": "code",
   "execution_count": 7,
   "metadata": {},
   "outputs": [],
   "source": [
    "# 제출용 csv 생성\n",
    "sample_submission[\"deposit\"] = y_test_pred\n",
    "sample_submission.to_csv(\"output2.csv\", index= False)"
   ]
  }
 ],
 "metadata": {
  "kernelspec": {
   "display_name": ".venv",
   "language": "python",
   "name": "python3"
  },
  "language_info": {
   "codemirror_mode": {
    "name": "ipython",
    "version": 3
   },
   "file_extension": ".py",
   "mimetype": "text/x-python",
   "name": "python",
   "nbconvert_exporter": "python",
   "pygments_lexer": "ipython3",
   "version": "3.11.0"
  }
 },
 "nbformat": 4,
 "nbformat_minor": 2
}
