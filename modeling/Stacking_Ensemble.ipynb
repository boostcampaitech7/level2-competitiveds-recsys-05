{
  "nbformat": 4,
  "nbformat_minor": 0,
  "metadata": {
    "colab": {
      "provenance": [],
      "machine_shape": "hm",
      "gpuType": "T4"
    },
    "kernelspec": {
      "name": "python3",
      "display_name": "Python 3"
    },
    "language_info": {
      "name": "python"
    },
    "accelerator": "GPU"
  },
  "cells": [
    {
      "cell_type": "markdown",
      "source": [
        "# 라이브러리"
      ],
      "metadata": {
        "id": "EjD0Yr9GBdN6"
      }
    },
    {
      "cell_type": "code",
      "source": [
        "import os\n",
        "import pandas as pd\n",
        "import numpy as np\n",
        "import matplotlib.pyplot as plt\n",
        "import seaborn as sns\n",
        "from tqdm import tqdm\n",
        "from haversine import haversine, Unit\n",
        "from sklearn.metrics import mean_squared_error, mean_absolute_error\n",
        "from sklearn.model_selection import train_test_split\n",
        "from sklearn.preprocessing import LabelEncoder\n",
        "\n",
        "import gc\n",
        "\n",
        "\n",
        "import lightgbm as lgb\n",
        "import xgboost as xgb\n",
        "from catboost import Pool, CatBoostRegressor\n",
        "\n",
        "import warnings\n",
        "warnings.filterwarnings('ignore')"
      ],
      "metadata": {
        "id": "DzyY7FYUBquC"
      },
      "execution_count": 6,
      "outputs": []
    },
    {
      "cell_type": "code",
      "source": [
        "file_path = './data/'\n",
        "df = pd.read_csv(os.path.join(file_path, 'final.csv'))"
      ],
      "metadata": {
        "id": "41Nq4rSFB0Ve"
      },
      "execution_count": 9,
      "outputs": []
    },
    {
      "cell_type": "markdown",
      "source": [
        "#### 금리 3개월 변화량"
      ],
      "metadata": {
        "id": "s7JsJtZgBsj1"
      }
    },
    {
      "cell_type": "code",
      "source": [
        "# 파일 불러오기\n",
        "interest_rate_df = pd.read_csv(file_path + 'interestRate.csv')\n",
        "\n",
        "# index 기준으로 역순 정렬\n",
        "interest_rate_df = interest_rate_df.sort_index(ascending=False).reset_index(drop=True)\n",
        "interest_rate_df = pd.concat([interest_rate_df, pd.DataFrame({'year_month': [202406], 'interest_rate': [3.56]})])\n",
        "\n",
        "# 기울기를 계산할 함수 정의\n",
        "def calculate_slope(series):\n",
        "    if len(series) < 3:\n",
        "        return np.nan  # 데이터가 3개월 미만일 때는 NaN 처리\n",
        "    x = np.array(range(len(series)))\n",
        "    y = np.array(series)\n",
        "    slope = np.polyfit(x, y, 1)[0]  # 기울기 계산\n",
        "    return slope\n",
        "\n",
        "# 3개월치의 기울기를 계산해서 새로운 열로 추가\n",
        "interest_rate_df['3_month_slope'] = interest_rate_df['interest_rate'].rolling(window=3).apply(calculate_slope, raw=True)\n",
        "interest_rate_df = interest_rate_df.rename({'year_month': 'contract_year_month'}, axis=1)\n",
        "\n",
        "df = df.merge(interest_rate_df[['contract_year_month', '3_month_slope']], on='contract_year_month', how='left')"
      ],
      "metadata": {
        "id": "hB83QZeECh8i"
      },
      "execution_count": 13,
      "outputs": []
    },
    {
      "cell_type": "code",
      "source": [
        "# train, test split\n",
        "train = df[df[\"_type\"] == \"train\"].sort_values(by='index')\n",
        "test = df[df[\"_type\"] == \"test\"].sort_values(by='index')"
      ],
      "metadata": {
        "id": "ZQMkndomEpdT"
      },
      "execution_count": 14,
      "outputs": []
    },
    {
      "cell_type": "code",
      "source": [
        "columns = [\n",
        "    'area_m2', 'floor',\n",
        "    'built_year', 'latitude', 'longitude',\n",
        "    'previous_month_interest_rate', 'monthly_new_supply',\n",
        "    'complex_id', 'max_deposit', 'cluster_labels',\n",
        "    'contract_year', 'contract_month',\n",
        "    'mean_deposit_per_area_year',\n",
        "    'max_deposit_per_area',\n",
        "    'previous_deposit2',\n",
        "    'half_max_deposit',\n",
        "    'deposit_std_id',\n",
        "    'nearest_subway_distance_km', 'nearest_elementary_distance_km',\n",
        "    'nearest_middle_distance_km', 'nearest_high_distance_km',\n",
        "    'nearest_park_distance_km', 'nearest_park_area',\n",
        "    'num_subway_within_0_5', 'num_subway_within_1', 'num_subway_within_2',\n",
        "    'num_elementary_within_0_5', 'num_elementary_within_1',\n",
        "    'num_elementary_within_2', 'num_middle_within_0_5',\n",
        "    'num_middle_within_1', 'num_middle_within_2', 'num_high_within_0_5',\n",
        "    'num_high_within_1', 'num_high_within_2', 'num_park_within_0_8',\n",
        "    'num_park_within_1_5', 'num_park_within_2',\n",
        "    'area_floor_interaction',\n",
        "    'nearest_transportation_hub',\n",
        "    'contract_type',\n",
        "    '3_month_slope'\n",
        "]"
      ],
      "metadata": {
        "id": "oug7SV7eEAb1"
      },
      "execution_count": 15,
      "outputs": []
    },
    {
      "cell_type": "code",
      "source": [
        "holdout_start = 202307\n",
        "holdout_end = 202312\n",
        "holdout_data = train[(train['contract_year_month'] >= holdout_start) & (train['contract_year_month'] <= holdout_end)]\n",
        "train_data = train[~((train['contract_year_month'] >= holdout_start) & (train['contract_year_month'] <= holdout_end))]\n",
        "\n",
        "X_train_full = train_data[columns]\n",
        "y_train_full = train_data['deposit']\n",
        "X_holdout = holdout_data[columns]\n",
        "y_holdout = holdout_data['deposit']\n",
        "X_test = test[columns]\n",
        "\n",
        "# 학습 데이터와 검증 데이터 분리\n",
        "X_train, X_val, y_train, y_val = train_test_split(\n",
        "    X_train_full,\n",
        "    y_train_full,\n",
        "    test_size=0.1,\n",
        "    random_state=42\n",
        ")"
      ],
      "metadata": {
        "id": "wxOPsjG6EmLe"
      },
      "execution_count": 16,
      "outputs": []
    },
    {
      "cell_type": "markdown",
      "source": [
        "# 스태킹 앙상블\n",
        "\n",
        "- OOF Stacking Ensemble"
      ],
      "metadata": {
        "id": "RFrouMGIQO-M"
      }
    },
    {
      "cell_type": "code",
      "source": [
        "# 범주형 컬럼 정의\n",
        "cat_cols = ['contract_type']\n",
        "\n",
        "# LightGBM과 XGBoost용 데이터 (Label Encoding)\n",
        "X_train_num = X_train_full.copy()\n",
        "X_holdout_num = X_holdout.copy()\n",
        "X_test_num = X_test.copy()\n",
        "\n",
        "X_train_num[cat_cols] = X_train_num[cat_cols].astype(int)\n",
        "X_holdout_num[cat_cols] = X_holdout_num[cat_cols].astype(int)\n",
        "X_test_num[cat_cols] = X_test_num[cat_cols].astype(int)\n",
        "\n",
        "X_train_cat = X_train_full.copy()\n",
        "X_holdout_cat = X_holdout.copy()\n",
        "X_test_cat = X_test.copy()\n",
        "\n",
        "X_train_cat[cat_cols] = X_train_cat[cat_cols].astype(int)\n",
        "X_holdout_cat[cat_cols] = X_holdout_cat[cat_cols].astype(int)\n",
        "X_test_cat[cat_cols] = X_test_cat[cat_cols].astype(int)"
      ],
      "metadata": {
        "id": "Btn_H_QCQscr"
      },
      "execution_count": 19,
      "outputs": []
    },
    {
      "cell_type": "code",
      "source": [
        "# LightGBM 모델 정의\n",
        "lgb_params = {\n",
        "    'boosting_type': 'gbdt',\n",
        "    'learning_rate': 0.05,\n",
        "    'n_estimators': 500,\n",
        "    'max_depth': 15,\n",
        "    'num_leaves': 96,\n",
        "    'subsample': 0.9104369435751337,\n",
        "    'colsample_bytree': 0.5371328882033616,\n",
        "    'objective': 'regression_l1',\n",
        "    'random_state': 42,\n",
        "    'verbose': -1\n",
        "}\n",
        "lgb_model = lgb.LGBMRegressor(**lgb_params)\n",
        "\n",
        "# XGBoost 모델 정의\n",
        "xgb_params = {\n",
        "    \"device\": \"cuda\",\n",
        "    'booster': 'gbtree',\n",
        "    \"objective\": \"reg:absoluteerror\",\n",
        "    \"tree_method\": \"hist\",\n",
        "    \"eval_metric\": \"mae\",\n",
        "    \"seed\": 42,\n",
        "    \"learning_rate\": 0.2,\n",
        "    \"max_depth\": 8,\n",
        "    'max_leaves': 234,\n",
        "    \"colsample_bytree\": 0.8,\n",
        "    \"n_estimators\": 228\n",
        "}\n",
        "xgb_model = xgb.XGBRegressor(**xgb_params)\n",
        "\n",
        "# CatBoost 모델 정의\n",
        "cat_model = CatBoostRegressor(\n",
        "    boosting_type = \"Plain\",\n",
        "    eval_metric = \"MAE\",\n",
        "    iterations = 500,\n",
        "    learning_rate = 0.05,\n",
        "    l2_leaf_reg = 10,\n",
        "    max_leaves = 255,\n",
        "    grow_policy='Lossguide',\n",
        "    random_seed = 42,\n",
        "    task_type = \"GPU\",\n",
        "    depth = 16\n",
        ")"
      ],
      "metadata": {
        "id": "lsz-TJHYH_xO"
      },
      "execution_count": 18,
      "outputs": []
    },
    {
      "cell_type": "code",
      "source": [
        "from sklearn.model_selection import KFold\n",
        "from sklearn.linear_model import LinearRegression\n",
        "\n",
        "# 기본 모델 리스트\n",
        "base_models = [lgb_model, xgb_model, cat_model]\n",
        "\n",
        "# 메타 모델 정의 (선형 회귀 사용)\n",
        "meta_model = LinearRegression()\n",
        "\n",
        "# K-Fold 설정\n",
        "kf = KFold(n_splits=5, shuffle=True, random_state=42)\n",
        "\n",
        "# 훈련 데이터에 대한 메타 피처 생성\n",
        "train_meta_features = np.zeros((X_train_num.shape[0], len(base_models)))\n",
        "test_meta_features = np.zeros((X_test_num.shape[0], len(base_models)))\n",
        "\n",
        "for i, model in enumerate(base_models):\n",
        "    print(f\"Generating meta features for model {i+1} ({model.__class__.__name__})\")\n",
        "    oof_pred = np.zeros(X_train_num.shape[0])\n",
        "\n",
        "    for train_idx, val_idx in kf.split(X_train_num):\n",
        "        X_train_fold = X_train_num.iloc[train_idx]\n",
        "        y_train_fold = y_train_full.iloc[train_idx]\n",
        "        X_val_fold = X_train_num.iloc[val_idx]\n",
        "        y_val_fold = y_train_full.iloc[val_idx]\n",
        "\n",
        "        # 모델별로 학습 방법 다르게 처리\n",
        "        if isinstance(model, CatBoostRegressor):\n",
        "            # CatBoost는 cat_features를 지정해야 합니다.\n",
        "            model.fit(X_train_fold, y_train_fold, cat_features=cat_cols, verbose=False)\n",
        "        else:\n",
        "            model.fit(X_train_fold, y_train_fold)\n",
        "\n",
        "        # 검증 데이터에 대한 예측\n",
        "        oof_pred[val_idx] = model.predict(X_val_fold)\n",
        "\n",
        "    # 훈련 데이터에 대한 OOF 예측 저장\n",
        "    train_meta_features[:, i] = oof_pred\n",
        "\n",
        "    # 전체 훈련 데이터로 다시 학습\n",
        "    if isinstance(model, CatBoostRegressor):\n",
        "        model.fit(X_train_cat, y_train_full, cat_features=cat_cols, verbose=False)\n",
        "        test_meta_features[:, i] = model.predict(X_test_cat)\n",
        "    else:\n",
        "        model.fit(X_train_num, y_train_full)\n",
        "        test_meta_features[:, i] = model.predict(X_test_num)\n",
        "\n",
        "# 메타 피처 데이터프레임 생성\n",
        "train_meta_df = pd.DataFrame(train_meta_features, columns=['lgb_pred', 'xgb_pred', 'cat_pred'])\n",
        "test_meta_df = pd.DataFrame(test_meta_features, columns=['lgb_pred', 'xgb_pred', 'cat_pred'])\n",
        "\n",
        "# 메타 모델 학습\n",
        "meta_model.fit(train_meta_df, y_train_full)\n",
        "\n",
        "# 메타 모델을 사용한 최종 예측\n",
        "meta_pred_holdout = meta_model.predict(train_meta_df)\n",
        "meta_pred_test = meta_model.predict(test_meta_df)\n",
        "\n",
        "# 성능 평가\n",
        "meta_mae = mean_absolute_error(y_train_full, meta_pred_holdout)\n",
        "meta_rmse = np.sqrt(mean_squared_error(y_train_full, meta_pred_holdout))\n",
        "\n",
        "print(f\"Stacking Ensemble MAE: {meta_mae:.4f}\")\n",
        "print(f\"Stacking Ensemble RMSE: {meta_rmse:.4f}\")\n",
        "\n",
        "# 최종 예측 저장\n",
        "test_stacking_ensemble_pred = meta_pred_test"
      ],
      "metadata": {
        "id": "EZC7JH6BTmCN",
        "colab": {
          "base_uri": "https://localhost:8080/"
        },
        "outputId": "70fcd6b7-4601-4260-faa4-2451a2b891af"
      },
      "execution_count": 20,
      "outputs": [
        {
          "output_type": "stream",
          "name": "stdout",
          "text": [
            "Generating meta features for model 1 (LGBMRegressor)\n",
            "Generating meta features for model 2 (XGBRegressor)\n",
            "Generating meta features for model 3 (CatBoostRegressor)\n"
          ]
        },
        {
          "output_type": "stream",
          "name": "stderr",
          "text": [
            "Default metric period is 5 because MAE is/are not implemented for GPU\n",
            "Default metric period is 5 because MAE is/are not implemented for GPU\n",
            "Default metric period is 5 because MAE is/are not implemented for GPU\n",
            "Default metric period is 5 because MAE is/are not implemented for GPU\n",
            "Default metric period is 5 because MAE is/are not implemented for GPU\n",
            "Default metric period is 5 because MAE is/are not implemented for GPU\n"
          ]
        },
        {
          "output_type": "stream",
          "name": "stdout",
          "text": [
            "Stacking Ensemble MAE: 3246.9146\n",
            "Stacking Ensemble RMSE: 5468.4550\n"
          ]
        }
      ]
    },
    {
      "cell_type": "markdown",
      "source": [
        "#### 결과 제출"
      ],
      "metadata": {
        "id": "hEBVNR68JFoa"
      }
    },
    {
      "cell_type": "code",
      "source": [
        "sample_submission = pd.read_csv(os.path.join(file_path, 'sample_submission.csv'))\n",
        "sample_submission['deposit'] = test_stacking_ensemble_pred"
      ],
      "metadata": {
        "id": "qEXqHMnpXeYz"
      },
      "execution_count": null,
      "outputs": []
    },
    {
      "cell_type": "code",
      "source": [
        "sample_submission.to_csv(os.path.join(file_path, 'output_stacking.csv'), index=False)"
      ],
      "metadata": {
        "id": "Tc1GU3SyXuyD"
      },
      "execution_count": null,
      "outputs": []
    }
  ]
}