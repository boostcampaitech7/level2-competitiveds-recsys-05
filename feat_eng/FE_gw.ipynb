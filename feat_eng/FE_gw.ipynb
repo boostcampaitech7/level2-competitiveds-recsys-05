{
 "cells": [
  {
   "cell_type": "markdown",
   "metadata": {},
   "source": [
    "# 0. Load Libraries"
   ]
  },
  {
   "cell_type": "code",
   "execution_count": 1,
   "metadata": {},
   "outputs": [],
   "source": [
    "import numpy as np\n",
    "import pandas as pd\n",
    "import os\n",
    "import gc\n",
    "import utils\n",
    "import feat_eng\n",
    "# import dr_clust\n",
    "\n",
    "import matplotlib.pyplot as plt\n",
    "\n",
    "import warnings\n",
    "warnings.filterwarnings('ignore')"
   ]
  },
  {
   "cell_type": "code",
   "execution_count": 3,
   "metadata": {},
   "outputs": [],
   "source": [
    "file_path = '../notebooks/data'\n",
    "train = pd.read_csv(os.path.join(file_path, 'train.csv')).assign(_type = 'train')\n",
    "test = pd.read_csv(os.path.join(file_path, 'test.csv')).assign(_type = 'test')"
   ]
  },
  {
   "cell_type": "markdown",
   "metadata": {},
   "source": [
    "#### train data 중복 데이터 제거"
   ]
  },
  {
   "cell_type": "code",
   "execution_count": 4,
   "metadata": {},
   "outputs": [
    {
     "name": "stdout",
     "output_type": "stream",
     "text": [
      "중복 제거 전 train.shape = (1801228, 12)\n",
      "중복 제거 후 train.shape = (1717611, 12)\n"
     ]
    }
   ],
   "source": [
    "print(f'중복 제거 전 train.shape = {train.shape}')\n",
    "dup_train = train.drop('index', axis=1).duplicated()\n",
    "train = train[~dup_train]\n",
    "print(f'중복 제거 후 train.shape = {train.shape}')"
   ]
  },
  {
   "cell_type": "markdown",
   "metadata": {},
   "source": [
    "#### train, test data 병합"
   ]
  },
  {
   "cell_type": "code",
   "execution_count": 5,
   "metadata": {},
   "outputs": [
    {
     "name": "stdout",
     "output_type": "stream",
     "text": [
      "df.shape = (1867783, 12)\n"
     ]
    }
   ],
   "source": [
    "df = pd.concat([train, test])\n",
    "del train, test, dup_train\n",
    "print(f'df.shape = {df.shape}')"
   ]
  },
  {
   "cell_type": "markdown",
   "metadata": {},
   "source": [
    "#### 계약 연도 변수 만들기"
   ]
  },
  {
   "cell_type": "code",
   "execution_count": 6,
   "metadata": {},
   "outputs": [],
   "source": [
    "df['contract_year'] = df['contract_year_month'].astype(str).apply(lambda x: x[:4]).astype(int).values"
   ]
  },
  {
   "cell_type": "markdown",
   "metadata": {},
   "source": [
    "#### 아파트 단지 ID 만들기"
   ]
  },
  {
   "cell_type": "code",
   "execution_count": 7,
   "metadata": {},
   "outputs": [],
   "source": [
    "df = feat_eng.create_complex_id(df=df, lat_col='latitude', lon_col='longitude')"
   ]
  },
  {
   "cell_type": "code",
   "execution_count": 8,
   "metadata": {},
   "outputs": [],
   "source": [
    "subwayInfo = pd.read_csv(os.path.join(file_path, 'subwayInfo.csv'))\n",
    "schoolInfo = pd.read_csv(os.path.join(file_path, 'schoolinfo.csv'))\n",
    "parkInfo = pd.read_csv(os.path.join(file_path, 'parkInfo.csv'))"
   ]
  },
  {
   "cell_type": "markdown",
   "metadata": {},
   "source": [
    "# 1. POI 데이터\n",
    "\n",
    "## 1.1 Distance to the Nearest POI (km)"
   ]
  },
  {
   "cell_type": "code",
   "execution_count": 9,
   "metadata": {},
   "outputs": [],
   "source": [
    "apt = df[['latitude', 'longitude']].drop_duplicates().reset_index(drop=True)\n",
    "\n",
    "apt = apt.assign(\n",
    "    # 1. Distance to the nearest subway\n",
    "    nearest_subway_distance_km = feat_eng.nearest_POI(apt=apt[['latitude', 'longitude']], POI=subwayInfo)[0],\n",
    "    \n",
    "    # 2. Distance to the nearest (elementary, middel, high) school\n",
    "    nearest_elementary_distance_km = feat_eng.nearest_POI(apt=apt[['latitude', 'longitude']], POI=schoolInfo[schoolInfo['schoolLevel']=='elementary'][['latitude', 'longitude']])[0],\n",
    "    nearest_middle_distance_km = feat_eng.nearest_POI(apt=apt[['latitude', 'longitude']], POI=schoolInfo[schoolInfo['schoolLevel']=='middle'][['latitude', 'longitude']])[0],\n",
    "    nearest_high_distance_km = feat_eng.nearest_POI(apt=apt[['latitude', 'longitude']], POI=schoolInfo[schoolInfo['schoolLevel']=='high'][['latitude', 'longitude']])[0],\n",
    "    \n",
    "    # 3. Distance to the nearest park & Area of the nearest park\n",
    "    nearest_park_distance_km = feat_eng.nearest_POI(apt=apt[['latitude', 'longitude']], POI=parkInfo[['latitude', 'longitude']])[0],\n",
    "    nearest_park_area = parkInfo['area'][feat_eng.nearest_POI(apt=apt[['latitude', 'longitude']], POI=parkInfo[['latitude', 'longitude']])[1]].values\n",
    ")"
   ]
  },
  {
   "cell_type": "markdown",
   "metadata": {},
   "source": [
    "# 2. 특정 반경 안 POI 개수"
   ]
  },
  {
   "cell_type": "code",
   "execution_count": 10,
   "metadata": {},
   "outputs": [],
   "source": [
    "apt = apt.assign(\n",
    "    # 1. 지하철역\n",
    "    num_subway_within_0_5km = feat_eng.count_within_radius(apt, subwayInfo, radius_km=0.5),\n",
    "    num_subway_within_1_5km = feat_eng.count_within_radius(apt, subwayInfo, radius_km=1.5),\n",
    "    num_subway_within_3km = feat_eng.count_within_radius(apt, subwayInfo, radius_km=3),\n",
    "    \n",
    "    # 2. 학교\n",
    "    num_elementary_within_1km = feat_eng.count_within_radius(apt, schoolInfo[schoolInfo['schoolLevel']=='elementary'], radius_km=1),\n",
    "    num_elementary_within_3km = feat_eng.count_within_radius(apt, schoolInfo[schoolInfo['schoolLevel']=='elementary'], radius_km=3),\n",
    "    num_middle_within_1km = feat_eng.count_within_radius(apt, schoolInfo[schoolInfo['schoolLevel']=='middle'], radius_km=1),\n",
    "    num_middle_within_3km = feat_eng.count_within_radius(apt, schoolInfo[schoolInfo['schoolLevel']=='middle'], radius_km=3),\n",
    "    num_high_within_1km = feat_eng.count_within_radius(apt, schoolInfo[schoolInfo['schoolLevel']=='high'], radius_km=1),\n",
    "    num_high_within_3km = feat_eng.count_within_radius(apt, schoolInfo[schoolInfo['schoolLevel']=='high'], radius_km=3),\n",
    "    \n",
    "    # 3. 공원\n",
    "    num_park_within_1km = feat_eng.count_within_radius(apt, parkInfo, radius_km=1),\n",
    "    num_park_within_5km = feat_eng.count_within_radius(apt, parkInfo, radius_km=5)\n",
    ")"
   ]
  },
  {
   "cell_type": "code",
   "execution_count": 11,
   "metadata": {},
   "outputs": [
    {
     "data": {
      "text/plain": [
       "0"
      ]
     },
     "execution_count": 11,
     "metadata": {},
     "output_type": "execute_result"
    }
   ],
   "source": [
    "df = df.merge(apt, on=['latitude', 'longitude'], how='left')\n",
    "del subwayInfo, schoolInfo, parkInfo, apt\n",
    "gc.collect()"
   ]
  },
  {
   "cell_type": "markdown",
   "metadata": {},
   "source": [
    "# 3. 금리 데이터"
   ]
  },
  {
   "cell_type": "code",
   "execution_count": 12,
   "metadata": {},
   "outputs": [],
   "source": [
    "interestRate = pd.read_csv(os.path.join(file_path, 'interestRate.csv')).rename({'year_month': 'contract_year_month'}, axis=1)"
   ]
  },
  {
   "cell_type": "code",
   "execution_count": 13,
   "metadata": {},
   "outputs": [
    {
     "data": {
      "text/plain": [
       "0"
      ]
     },
     "execution_count": 13,
     "metadata": {},
     "output_type": "execute_result"
    }
   ],
   "source": [
    "df = df.merge(feat_eng.add_interest_rate(interestRate), on='contract_year_month', how='left')\n",
    "del interestRate\n",
    "\n",
    "gc.collect()"
   ]
  },
  {
   "cell_type": "markdown",
   "metadata": {},
   "source": [
    "# 4. 신축 공급량과 비슷한 효과를 내도록 하는 age 관련 변수"
   ]
  },
  {
   "cell_type": "code",
   "execution_count": 14,
   "metadata": {},
   "outputs": [],
   "source": [
    "monthly_new_supply = feat_eng.add_new_supply_column(df, age_col='age', group_col='contract_year_month', supply_col_name='monthly_new_supply')\n",
    "df = df.merge(monthly_new_supply, on='contract_year_month', how='left')\n",
    "\n",
    "del monthly_new_supply"
   ]
  },
  {
   "cell_type": "markdown",
   "metadata": {},
   "source": [
    "# 5. 클러스터 변수 붙여주기\n",
    "\n",
    "- `Standard_None_KMenas100_results.csv`:\n",
    "    - `['latittude', 'longitude']`\n",
    "- `Minmax_UMAP02_KMeans500_results.csv`:\n",
    "    - `['latitude', 'longitude', 'nearest_subway_distance_km', '2023_age', 'deposit_mean', 'deposit_std']`"
   ]
  },
  {
   "cell_type": "code",
   "execution_count": 15,
   "metadata": {},
   "outputs": [],
   "source": [
    "std_none_km100 = pd.read_csv(\"./cluster_data/Standard_None_KMeans100_results.csv\")[['complex_id', 'Cluster']]\n",
    "minmax_umap02_km100 = pd.read_csv(\"./cluster_data/Minmax_UMAP02_KMeans500_results.csv\")[['complex_id', 'Cluster']]\n",
    "selected_cols = ['latitude', 'longitude']"
   ]
  },
  {
   "cell_type": "code",
   "execution_count": 16,
   "metadata": {},
   "outputs": [],
   "source": [
    "# df = df.merge(std_none_km100, on='complex_id', how='left')\n",
    "df = df.merge(minmax_umap02_km100, on='complex_id', how='left')"
   ]
  },
  {
   "cell_type": "markdown",
   "metadata": {},
   "source": [
    "# 6. 계약 건수"
   ]
  },
  {
   "cell_type": "code",
   "execution_count": 17,
   "metadata": {},
   "outputs": [],
   "source": [
    "df['contract_count_last_year'] = feat_eng.add_previous_contract_count(df, group_col = 'Cluster', grouping_type='year')\n",
    "df['contract_count_last_month'] = feat_eng.add_previous_contract_count(df, group_col = 'Cluster', grouping_type='month')\n",
    "df['contract_count_last_quarter'] = feat_eng.add_previous_contract_count(df, group_col = 'Cluster', grouping_type='quarter')\n",
    "df['contract_count_last_half'] = feat_eng.add_previous_contract_count(df, group_col = 'Cluster', grouping_type='half')"
   ]
  },
  {
   "cell_type": "markdown",
   "metadata": {},
   "source": [
    "# 7. 전세가 FE"
   ]
  },
  {
   "cell_type": "markdown",
   "metadata": {},
   "source": [
    "1. Train 데이터에 대해: \n",
    "    - 먼저 train 데이터에서 `(Cluster, contract_year)`별 `deposit`의 평균과 표준편차를 계산\n",
    "    - 그 후, 각 행의 `contract_year`보다 이전에 존재하는 가장 최신의 값을 병합\n",
    "    - 이를 위해 먼저 `contract_year`별 누적된 통계를 만들어야 함\n",
    "\n",
    "2. Test 데이터에 대해:\n",
    "    - test 데이터의 `Cluster`가 train 데이터에 존재하는 경우 해당 `Cluster`의 값을 그대로 사용하고\n",
    "    - 그렇지 않으면 나머지 feature들과의 유클리드 거리를 계산하여 가장 가까운 `Cluster`를 찾아서 그 값을 사용"
   ]
  },
  {
   "cell_type": "code",
   "execution_count": 18,
   "metadata": {},
   "outputs": [],
   "source": [
    "# 이전 년도 클러스터별 전세가 평균, 표준편차 추가\n",
    "df = feat_eng.calculate_deposit_stats(df, group_col='Cluster', time_unit='year')\n",
    "# 이전 달 클러스터별 전세가 평균, 표준편차 추가\n",
    "df = feat_eng.calculate_deposit_stats(df, group_col='Cluster', time_unit='month')\n",
    "# 이전 분기 클러스터별 전세가 평균, 표준편차 추가\n",
    "df = feat_eng.calculate_deposit_stats(df, group_col='Cluster', time_unit='quarter')\n",
    "# 이전 (상/하)반기 클러스터별 전세가 평균, 표준편차 추가\n",
    "df = feat_eng.calculate_deposit_stats(df, group_col='Cluster', time_unit='half')"
   ]
  },
  {
   "cell_type": "markdown",
   "metadata": {},
   "source": [
    "# 8. 층수, 면적 범주화"
   ]
  },
  {
   "cell_type": "code",
   "execution_count": 20,
   "metadata": {},
   "outputs": [],
   "source": [
    "df = feat_eng.categorize_floor(df)\n",
    "df = feat_eng.categorize_area(df)"
   ]
  },
  {
   "cell_type": "code",
   "execution_count": 24,
   "metadata": {},
   "outputs": [
    {
     "name": "stdout",
     "output_type": "stream",
     "text": [
      "Memory usage of dataframe is 685.78 MB\n",
      "Memory usage after optimization is: 249.38 MB\n",
      "Decreased by 63.6%\n"
     ]
    }
   ],
   "source": [
    "df = utils.reduce_mem_usage(df, exclude_columns=['latitude', 'longitude'])"
   ]
  },
  {
   "cell_type": "code",
   "execution_count": 22,
   "metadata": {},
   "outputs": [],
   "source": [
    "df.to_csv(os.path.join(file_path, \"fe_final_2.csv\"), index=False)"
   ]
  },
  {
   "cell_type": "code",
   "execution_count": null,
   "metadata": {},
   "outputs": [],
   "source": [
    "    "
   ]
  }
 ],
 "metadata": {
  "kernelspec": {
   "display_name": ".venv",
   "language": "python",
   "name": "python3"
  },
  "language_info": {
   "codemirror_mode": {
    "name": "ipython",
    "version": 3
   },
   "file_extension": ".py",
   "mimetype": "text/x-python",
   "name": "python",
   "nbconvert_exporter": "python",
   "pygments_lexer": "ipython3",
   "version": "3.11.0"
  }
 },
 "nbformat": 4,
 "nbformat_minor": 2
}
