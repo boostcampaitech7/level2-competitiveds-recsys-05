{
 "cells": [
  {
   "cell_type": "markdown",
   "metadata": {},
   "source": [
    "# 데이터 불러오기"
   ]
  },
  {
   "cell_type": "code",
   "execution_count": 1,
   "metadata": {},
   "outputs": [],
   "source": [
    "import pandas as pd\n",
    "import numpy as np\n",
    "from sklearn.metrics import root_mean_squared_error, mean_absolute_error\n",
    "from sklearn.model_selection import train_test_split\n",
    "import lightgbm as lgb\n",
    "import optuna\n",
    "\n",
    "RANDOM_SEED = 42\n",
    "np.random.seed(RANDOM_SEED)\n",
    "\n",
    "# 파일 경로 설정\n",
    "file_path = '../data/'\n",
    "\n",
    "# 파일 불러오기\n",
    "df = pd.read_csv(file_path + '123.csv')\n",
    "sample_submission = pd.read_csv(file_path + 'sample_submission.csv')"
   ]
  },
  {
   "cell_type": "code",
   "execution_count": 2,
   "metadata": {},
   "outputs": [],
   "source": [
    "# train, test split\n",
    "train = df[df[\"_type\"] == \"train\"]\n",
    "test = df[df[\"_type\"] == \"test\"]"
   ]
  },
  {
   "cell_type": "code",
   "execution_count": 33,
   "metadata": {},
   "outputs": [],
   "source": [
    "holdout_start = 202307\n",
    "holdout_end = 202312\n",
    "holdout_data = train[(train['contract_year_month'] >= holdout_start) & (train['contract_year_month'] <= holdout_end)]\n",
    "train_data = train[~(train['contract_year_month'] >= holdout_start) & (train['contract_year_month'] <= holdout_end)]\n",
    "\n",
    "# drop 수정 필요\n",
    "X_train_full = train_data.drop(['deposit', '_type'], axis=1)\n",
    "y_train_full = train_data['deposit']\n",
    "X_holdout = holdout_data.drop(['deposit', '_type'], axis=1)\n",
    "y_holdout = holdout_data['deposit']\n",
    "X_test = test.drop(['deposit', '_type'], axis=1)\n",
    "\n",
    "# 학습 데이터와 검증 데이터 분리\n",
    "X_train, X_val, y_train, y_val = train_test_split(\n",
    "    X_train_full,\n",
    "    y_train_full,\n",
    "    test_size=0.2,\n",
    "    random_state=RANDOM_SEED\n",
    ")"
   ]
  },
  {
   "cell_type": "markdown",
   "metadata": {},
   "source": [
    "# 모델링"
   ]
  },
  {
   "cell_type": "code",
   "execution_count": 34,
   "metadata": {},
   "outputs": [
    {
     "name": "stderr",
     "output_type": "stream",
     "text": [
      "[I 2024-10-21 17:42:23,813] A new study created in memory with name: no-name-503c7c0a-bdf3-4bb6-aab9-abc519a0d7ce\n",
      "[I 2024-10-21 17:42:32,007] Trial 0 finished with value: 4545.514020085175 and parameters: {'boosting_type': 'gbdt', 'learning_rate': 0.05, 'n_estimators': 263, 'max_depth': 1, 'num_leaves': 76, 'subsample': 0.5035226559439311, 'colsample_bytree': 0.7472125071771938}. Best is trial 0 with value: 4545.514020085175.\n",
      "[I 2024-10-21 17:42:50,654] Trial 1 finished with value: 437.5441706557971 and parameters: {'boosting_type': 'gbdt', 'learning_rate': 0.2, 'n_estimators': 434, 'max_depth': 11, 'num_leaves': 77, 'subsample': 0.7114015114488768, 'colsample_bytree': 0.7545544258259315}. Best is trial 1 with value: 437.5441706557971.\n"
     ]
    }
   ],
   "source": [
    "def objective(trial):\n",
    "    params = {\n",
    "    'boosting_type': trial.suggest_categorical('boosting_type', ['gbdt', 'dart']),\n",
    "    'learning_rate': trial.suggest_categorical('learning_rate', [0.01, 0.05, 0.1, 0.2]),\n",
    "    'n_estimators': trial.suggest_int('n_estimators', 50, 500),\n",
    "    'max_depth': trial.suggest_int('max_depth', 1, 16),\n",
    "    'num_leaves': trial.suggest_int('num_leaves', 20, 100),\n",
    "    'subsample': trial.suggest_float('subsample', 0.5, 1.0),\n",
    "    'colsample_bytree': trial.suggest_float('colsample_bytree', 0.5, 1.0),\n",
    "    'objective': 'regression_l1',\n",
    "    'random_state': RANDOM_SEED,\n",
    "    'verbose': -1\n",
    "    }\n",
    "    model = lgb.LGBMRegressor(**params)\n",
    "    \n",
    "    model.fit(\n",
    "        X_train, y_train,\n",
    "        eval_set=[(X_val, y_val)],\n",
    "        eval_metric='mae',\n",
    "        callbacks=[optuna.integration.LightGBMPruningCallback(trial, 'l1'), lgb.early_stopping(50, verbose=False)]\n",
    "    )\n",
    "    \n",
    "    holdout_pred = model.predict(X_holdout)\n",
    "    \n",
    "    holdout_mae = mean_absolute_error(y_holdout, holdout_pred)\n",
    "    holdout_rmse = root_mean_squared_error(y_holdout, holdout_pred)\n",
    "\n",
    "    trial.set_user_attr(\"rmse\", holdout_rmse)\n",
    "    \n",
    "    return holdout_mae\n",
    "  \n",
    "\n",
    "study = optuna.create_study(direction='minimize')\n",
    "study.optimize(objective, n_trials=100)"
   ]
  },
  {
   "cell_type": "markdown",
   "metadata": {},
   "source": [
    "# holdout 검증"
   ]
  },
  {
   "cell_type": "code",
   "execution_count": 35,
   "metadata": {},
   "outputs": [
    {
     "name": "stdout",
     "output_type": "stream",
     "text": [
      "Best trial:\n",
      "MAE: 437.5441706557971\n",
      "RMSE: 2363.604400600384\n",
      "Best hyperparameters:  {'boosting_type': 'gbdt', 'learning_rate': 0.2, 'n_estimators': 434, 'max_depth': 11, 'num_leaves': 77, 'subsample': 0.7114015114488768, 'colsample_bytree': 0.7545544258259315}\n"
     ]
    }
   ],
   "source": [
    "print(\"Best trial:\")\n",
    "trial = study.best_trial\n",
    "\n",
    "print(f\"MAE: {trial.value}\")\n",
    "print(f\"RMSE: {trial.user_attrs['rmse']}\")\n",
    "print(\"Best hyperparameters: \", trial.params)"
   ]
  },
  {
   "cell_type": "markdown",
   "metadata": {},
   "source": [
    "# 재학습 후 output 생성 (제출용)"
   ]
  },
  {
   "cell_type": "code",
   "execution_count": 36,
   "metadata": {},
   "outputs": [
    {
     "name": "stdout",
     "output_type": "stream",
     "text": [
      "[LightGBM] [Info] Auto-choosing row-wise multi-threading, the overhead of testing was 0.014728 seconds.\n",
      "You can set `force_row_wise=true` to remove the overhead.\n",
      "And if memory is not enough, you can set `force_col_wise=true`.\n",
      "[LightGBM] [Info] Total Bins 3064\n",
      "[LightGBM] [Info] Number of data points in the train set: 1448728, number of used features: 18\n",
      "[LightGBM] [Info] Start training from score 37593.700393\n",
      " MAE: 341.00\n",
      " RMSE: 706.42\n"
     ]
    }
   ],
   "source": [
    "# 재학습\n",
    "best_params = trial.params\n",
    "best_model = lgb.LGBMRegressor(**best_params)\n",
    "\n",
    "best_model.fit(X_train_full, y_train_full)\n",
    "\n",
    "y_pred = best_model.predict(X_train_full)\n",
    "y_test_pred = best_model.predict(X_test)\n",
    "\n",
    "mae = mean_absolute_error(y_train_full, y_pred)\n",
    "rmse = root_mean_squared_error(y_train_full, y_pred)\n",
    "\n",
    "print(f\" MAE: {mae:.2f}\")\n",
    "print(f\" RMSE: {rmse:.2f}\")"
   ]
  },
  {
   "cell_type": "code",
   "execution_count": 37,
   "metadata": {},
   "outputs": [],
   "source": [
    "# 제출용 csv 생성\n",
    "sample_submission[\"deposit\"] = y_test_pred\n",
    "sample_submission.to_csv(\"output2.csv\", index= False)"
   ]
  }
 ],
 "metadata": {
  "kernelspec": {
   "display_name": ".venv",
   "language": "python",
   "name": "python3"
  },
  "language_info": {
   "codemirror_mode": {
    "name": "ipython",
    "version": 3
   },
   "file_extension": ".py",
   "mimetype": "text/x-python",
   "name": "python",
   "nbconvert_exporter": "python",
   "pygments_lexer": "ipython3",
   "version": "3.11.0"
  }
 },
 "nbformat": 4,
 "nbformat_minor": 2
}
