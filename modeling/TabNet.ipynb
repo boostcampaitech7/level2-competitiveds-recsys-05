{
 "cells": [
  {
   "cell_type": "markdown",
   "metadata": {},
   "source": [
    "# 데이터 불러오기"
   ]
  },
  {
   "cell_type": "code",
   "execution_count": 4,
   "metadata": {},
   "outputs": [],
   "source": [
    "import pandas as pd\n",
    "import numpy as np\n",
    "from sklearn.metrics import root_mean_squared_error, mean_absolute_error\n",
    "\n",
    "RANDOM_SEED = 42\n",
    "np.random.seed(RANDOM_SEED)\n",
    "\n",
    "# 파일 경로 설정\n",
    "file_path = '../data/'\n",
    "\n",
    "# 파일 불러오기\n",
    "df = pd.read_csv(file_path + '123.csv')\n",
    "sample_submission = pd.read_csv(file_path + 'sample_submission.csv')"
   ]
  },
  {
   "cell_type": "code",
   "execution_count": 5,
   "metadata": {},
   "outputs": [],
   "source": [
    "# train, test split\n",
    "train = df[df[\"_type\"] == \"train\"]\n",
    "test = df[df[\"_type\"] == \"test\"]"
   ]
  },
  {
   "cell_type": "code",
   "execution_count": 12,
   "metadata": {},
   "outputs": [],
   "source": [
    "from sklearn.model_selection import train_test_split\n",
    "\n",
    "holdout_start = 202307\n",
    "holdout_end = 202312\n",
    "holdout_data = train[(train['contract_year_month'] >= holdout_start) & (train['contract_year_month'] <= holdout_end)]\n",
    "train_data = train[~(train['contract_year_month'] >= holdout_start) & (train['contract_year_month'] <= holdout_end)]\n",
    "\n",
    "# drop 수정 필요\n",
    "X_train_full = train_data.drop(['deposit', '_type'], axis=1)\n",
    "y_train_full = train_data['deposit']\n",
    "X_holdout = holdout_data.drop(['deposit', '_type'], axis=1)\n",
    "y_holdout = holdout_data['deposit']\n",
    "X_test = test.drop(['deposit', '_type'], axis=1)\n",
    "\n",
    "# 학습 데이터와 검증 데이터 분리\n",
    "X_train, X_val, y_train, y_val = train_test_split(\n",
    "    X_train_full,\n",
    "    y_train_full,\n",
    "    test_size=0.2,\n",
    "    random_state=RANDOM_SEED\n",
    ")"
   ]
  },
  {
   "cell_type": "markdown",
   "metadata": {},
   "source": [
    "# 모델링"
   ]
  },
  {
   "cell_type": "code",
   "execution_count": null,
   "metadata": {},
   "outputs": [],
   "source": [
    "from pytorch_tabnet.tab_model import TabNetRegressor\n",
    "import torch\n",
    "# TabNet 모델 정의\n",
    "tabNet = TabNetRegressor(\n",
    "    n_d=8,  # TabNet의 Decision Transformer의 출력 차원\n",
    "    n_a=8,  # Attention Mechanism의 출력 차원\n",
    "    n_steps=3,  # TabNet에서 step 수\n",
    "    gamma=1.5,  # regularization term\n",
    "    lambda_sparse=0.001,  # sparse regularization strength\n",
    "    optimizer_fn=torch.optim.Adam,  # Optimizer로 Adam 사용\n",
    "    optimizer_params=dict(lr=1e-2),  # Learning rate 설정\n",
    ")\n",
    "\n",
    "# 모델 학습\n",
    "history = tabNet.fit(\n",
    "    X_train.to_numpy(),\n",
    "    y_train.values.reshape(-1, 1),\n",
    "    eval_set=[(X_val.to_numpy(), y_val.values.reshape(-1, 1))],\n",
    "    max_epochs=10,\n",
    "    eval_metric=['mae'],\n",
    "    patience=50,  # early stopping patience\n",
    "    batch_size=1024,\n",
    "    virtual_batch_size=128,\n",
    "    num_workers=2\n",
    ")\n"
   ]
  },
  {
   "cell_type": "markdown",
   "metadata": {},
   "source": [
    "# 하이퍼 파라미터 튜닝"
   ]
  },
  {
   "cell_type": "markdown",
   "metadata": {},
   "source": [
    "# holdout 검증"
   ]
  },
  {
   "cell_type": "code",
   "execution_count": null,
   "metadata": {},
   "outputs": [],
   "source": [
    "holdout_pred = tabNet.predict(X_holdout)\n",
    "holdout_mae = mean_absolute_error(y_holdout, holdout_pred)\n",
    "holdout_rmse = root_mean_squared_error(y_holdout, holdout_pred)\n",
    "\n",
    "print(\"Holdout 데이터셋 성능\")\n",
    "print(f\"LightGBM MAE: {holdout_mae:.2f}\")\n",
    "print(f\"LightGBM RMSE: {holdout_rmse:.2f}\")"
   ]
  },
  {
   "cell_type": "markdown",
   "metadata": {},
   "source": [
    "# 재학습 후 output 생성 (제출용)"
   ]
  },
  {
   "cell_type": "code",
   "execution_count": null,
   "metadata": {},
   "outputs": [],
   "source": [
    "# train, test split\n",
    "train_data = df[df[\"_type\"] == \"train\"]\n",
    "test_data = df[df[\"_type\"] == \"test\"]\n",
    "\n",
    "X_train = train_data[columns]\n",
    "y_train = train_data['deposit']\n",
    "X_test = test_data[columns]"
   ]
  },
  {
   "cell_type": "code",
   "execution_count": null,
   "metadata": {},
   "outputs": [],
   "source": [
    "# 재학습\n",
    "\n",
    "history2 = tabNet2.fit(\n",
    "    X_train.to_numpy(),\n",
    "    y_train.values.reshape(-1, 1),\n",
    "    eval_set=[(X_val.to_numpy(), y_val.values.reshape(-1, 1))],\n",
    "    max_epochs=10,\n",
    "    eval_metric=['mae'],\n",
    "    patience=50,  # early stopping patience\n",
    "    batch_size=1024,\n",
    "    virtual_batch_size=128,\n",
    "    num_workers=2\n",
    ")"
   ]
  },
  {
   "cell_type": "code",
   "execution_count": null,
   "metadata": {},
   "outputs": [],
   "source": [
    "# 제출용 csv 생성\n",
    "sample_submission[\"deposit\"] = y_test_pred\n",
    "sample_submission.to_csv(\"output2.csv\", index= False)"
   ]
  }
 ],
 "metadata": {
  "kernelspec": {
   "display_name": ".venv",
   "language": "python",
   "name": "python3"
  },
  "language_info": {
   "codemirror_mode": {
    "name": "ipython",
    "version": 3
   },
   "file_extension": ".py",
   "mimetype": "text/x-python",
   "name": "python",
   "nbconvert_exporter": "python",
   "pygments_lexer": "ipython3",
   "version": "3.11.0"
  }
 },
 "nbformat": 4,
 "nbformat_minor": 2
}
